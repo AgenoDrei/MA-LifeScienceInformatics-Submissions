{
 "cells": [
  {
   "cell_type": "code",
   "execution_count": 1,
   "metadata": {},
   "outputs": [
    {
     "data": {
      "text/plain": [
       "[[0, 0, 0], [0, 0, 0]]"
      ]
     },
     "execution_count": 1,
     "metadata": {},
     "output_type": "execute_result"
    }
   ],
   "source": [
    "#Exercise 1#\n",
    "\n",
    "#right way:\n",
    "n=3\n",
    "m=2\n",
    "mat=[[0]*n for _ in range(m)]\n",
    "mat"
   ]
  },
  {
   "cell_type": "code",
   "execution_count": 2,
   "metadata": {},
   "outputs": [
    {
     "data": {
      "text/plain": [
       "[[0, 0, 0], [0, 0, 0]]"
      ]
     },
     "execution_count": 2,
     "metadata": {},
     "output_type": "execute_result"
    }
   ],
   "source": [
    "#wrong way\n",
    "mat_wrong=[[0]*n]*m\n",
    "mat_wrong"
   ]
  },
  {
   "cell_type": "markdown",
   "metadata": {},
   "source": [
    "Using the * operator is while declaring 2d arrays. Using the * would create shallow lists i.e only one list object would be created and all the indices would refer to this object. This might create unwanted complications. Hence using list comprehensions is a safer way to create 2d lists. Example: Creating matrices with randomemized rows:"
   ]
  },
  {
   "cell_type": "code",
   "execution_count": 3,
   "metadata": {},
   "outputs": [
    {
     "data": {
      "text/plain": [
       "[[4, 4, 4], [2, 2, 2]]"
      ]
     },
     "execution_count": 3,
     "metadata": {},
     "output_type": "execute_result"
    }
   ],
   "source": [
    "# what we want to have:\n",
    "import random\n",
    "mat=[]\n",
    "for i in range(m):\n",
    "    row = [random.randint(1,5)]*n\n",
    "    mat.append(row) # each row is n times a random integer\n",
    "mat"
   ]
  },
  {
   "cell_type": "code",
   "execution_count": 4,
   "metadata": {},
   "outputs": [
    {
     "data": {
      "text/plain": [
       "[[1, 1, 1], [1, 1, 1]]"
      ]
     },
     "execution_count": 4,
     "metadata": {},
     "output_type": "execute_result"
    }
   ],
   "source": [
    "# applying to wrong alternative returns a different result:\n",
    "row = [random.randint(1,5)]*n # WRONG\n",
    "mat_wrong=[]\n",
    "for i in range(m):\n",
    "    mat_wrong.append(row)\n",
    "mat_wrong # in every iteration its refers to the same row object. Resulting in similar rows everytime."
   ]
  },
  {
   "cell_type": "markdown",
   "metadata": {},
   "source": [
    "Exercise 2"
   ]
  },
  {
   "cell_type": "code",
   "execution_count": 5,
   "metadata": {},
   "outputs": [],
   "source": [
    "import numpy as np"
   ]
  },
  {
   "cell_type": "code",
   "execution_count": 14,
   "metadata": {},
   "outputs": [],
   "source": [
    "seq1=\"abcdfefedsfdsrewe\"\n",
    "seq2=\"ebcfgdfdfsdgdcc\"\n",
    "w=3\n",
    "s=2\n",
    "dp=np.zeros((len(seq2),len(seq1)),dtype=int)\n",
    "for i in range(len(seq1)):\n",
    "    for j in range(len(seq2)):\n",
    "        if seq1.lower()[i]==seq2.lower()[j]:\n",
    "            dp[j][i]=1\n"
   ]
  },
  {
   "cell_type": "code",
   "execution_count": 15,
   "metadata": {},
   "outputs": [
    {
     "data": {
      "text/plain": [
       "array([[0, 0, 0, 0, 0, 1, 0, 1, 0, 0, 0, 0, 0, 0, 1, 0, 1],\n",
       "       [0, 1, 0, 0, 0, 0, 0, 0, 0, 0, 0, 0, 0, 0, 0, 0, 0],\n",
       "       [0, 0, 1, 0, 0, 0, 0, 0, 0, 0, 0, 0, 0, 0, 0, 0, 0],\n",
       "       [0, 0, 0, 0, 1, 0, 1, 0, 0, 0, 1, 0, 0, 0, 0, 0, 0],\n",
       "       [0, 0, 0, 0, 0, 0, 0, 0, 0, 0, 0, 0, 0, 0, 0, 0, 0],\n",
       "       [0, 0, 0, 1, 0, 0, 0, 0, 1, 0, 0, 1, 0, 0, 0, 0, 0],\n",
       "       [0, 0, 0, 0, 1, 0, 1, 0, 0, 0, 1, 0, 0, 0, 0, 0, 0],\n",
       "       [0, 0, 0, 1, 0, 0, 0, 0, 1, 0, 0, 1, 0, 0, 0, 0, 0],\n",
       "       [0, 0, 0, 0, 1, 0, 1, 0, 0, 0, 1, 0, 0, 0, 0, 0, 0],\n",
       "       [0, 0, 0, 0, 0, 0, 0, 0, 0, 1, 0, 0, 1, 0, 0, 0, 0],\n",
       "       [0, 0, 0, 1, 0, 0, 0, 0, 1, 0, 0, 1, 0, 0, 0, 0, 0],\n",
       "       [0, 0, 0, 0, 0, 0, 0, 0, 0, 0, 0, 0, 0, 0, 0, 0, 0],\n",
       "       [0, 0, 0, 1, 0, 0, 0, 0, 1, 0, 0, 1, 0, 0, 0, 0, 0],\n",
       "       [0, 0, 1, 0, 0, 0, 0, 0, 0, 0, 0, 0, 0, 0, 0, 0, 0],\n",
       "       [0, 0, 1, 0, 0, 0, 0, 0, 0, 0, 0, 0, 0, 0, 0, 0, 0]])"
      ]
     },
     "execution_count": 15,
     "metadata": {},
     "output_type": "execute_result"
    }
   ],
   "source": [
    "dp"
   ]
  },
  {
   "cell_type": "markdown",
   "metadata": {},
   "source": [
    "a)"
   ]
  },
  {
   "cell_type": "code",
   "execution_count": 29,
   "metadata": {},
   "outputs": [],
   "source": [
    "seq1=\"abcdfsfsdfddee\"\n",
    "seq2=\"ebcdsfsdfsdcc\"\n",
    "\n",
    "def dot_plot(seq1,seq2,w=1,s=1):\n",
    "    seq1=seq1.lower()\n",
    "    seq2=seq2.lower()\n",
    "    assert w % 2 != 0\n",
    "    assert s>0\n",
    "    dp=np.zeros((len(seq2),len(seq1)),dtype=int)\n",
    "    for i in range(w//2,len(seq1)):\n",
    "        for j in range(w//2,len(seq2)):\n",
    "            if len((seq1[i-(w//2):i+(w//2)+1]))==len((seq2[j-(w//2):j+(w//2)+1]))==w:\n",
    "                if sum(a==b for a, b in zip(seq1[i-(w//2):i+(w//2)+1], seq2[j-(w//2):j+(w//2)+1]))==s:\n",
    "                    dp[j][i]=1\n",
    "\n",
    "    return dp"
   ]
  },
  {
   "cell_type": "code",
   "execution_count": 30,
   "metadata": {},
   "outputs": [
    {
     "data": {
      "text/plain": [
       "array([[0, 0, 0, 0, 0, 0, 0, 0, 0, 0, 0, 0, 0, 0],\n",
       "       [0, 1, 0, 0, 0, 0, 0, 0, 0, 0, 0, 0, 0, 0],\n",
       "       [0, 0, 0, 0, 0, 0, 0, 0, 0, 0, 0, 0, 0, 0],\n",
       "       [0, 0, 0, 1, 0, 0, 0, 0, 0, 0, 0, 0, 0, 0],\n",
       "       [0, 0, 0, 0, 0, 1, 0, 0, 0, 0, 0, 0, 0, 0],\n",
       "       [0, 0, 0, 0, 1, 0, 0, 0, 0, 0, 0, 0, 0, 0],\n",
       "       [0, 0, 0, 0, 0, 1, 0, 0, 0, 0, 1, 0, 0, 0],\n",
       "       [0, 0, 0, 1, 0, 0, 0, 0, 0, 0, 0, 0, 0, 0],\n",
       "       [0, 0, 0, 0, 0, 0, 1, 0, 0, 1, 0, 0, 0, 0],\n",
       "       [0, 0, 0, 0, 0, 1, 0, 0, 0, 0, 1, 0, 0, 0],\n",
       "       [0, 0, 0, 0, 0, 0, 0, 0, 1, 0, 0, 0, 0, 0],\n",
       "       [0, 0, 0, 0, 0, 0, 0, 0, 0, 0, 0, 0, 0, 0],\n",
       "       [0, 0, 0, 0, 0, 0, 0, 0, 0, 0, 0, 0, 0, 0]])"
      ]
     },
     "execution_count": 30,
     "metadata": {},
     "output_type": "execute_result"
    }
   ],
   "source": [
    "dp=dot_plot(seq1,seq2,3,2)\n",
    "dp"
   ]
  },
  {
   "cell_type": "code",
   "execution_count": 26,
   "metadata": {},
   "outputs": [],
   "source": [
    "def dotplot2ASCII(dp,seq1,seq2,title,outputfile):\n",
    "    seq1=seq1.lower()\n",
    "    seq2=seq2.lower()\n",
    "    with open(outputfile,\"w\") as out:\n",
    "        seq1_formatted=\" \"+seq1[:]\n",
    "        seq1_formatted_fin=\" \".join(seq1_formatted)\n",
    "        out.writelines(title+\"\\n\"+\"\\n\")\n",
    "        out.writelines(seq1_formatted_fin+\"\\n\")\n",
    "        dp_list=dp.tolist()\n",
    "        for i in dp_list:\n",
    "            i.insert(0,seq2[dp_list.index(i)])\n",
    "            i=[i[0]]+[\"*\" if x==1 else \" \" for x in i[1:]]\n",
    "            out.writelines(\" \".join(map(str, i))+\"\\n\")\n",
    "\n"
   ]
  },
  {
   "cell_type": "code",
   "execution_count": 27,
   "metadata": {},
   "outputs": [],
   "source": [
    "dotplot2ASCII(dp,seq1,seq2,\"My minimalistic DotPlot\",\"Desktop/out.txt\")"
   ]
  },
  {
   "cell_type": "code",
   "execution_count": 34,
   "metadata": {},
   "outputs": [],
   "source": [
    "import matplotlib.pyplot as plt"
   ]
  },
  {
   "cell_type": "code",
   "execution_count": 35,
   "metadata": {},
   "outputs": [],
   "source": [
    "def dotplot2Graphics(dp,seq1,seq2,heading,filename):    \n",
    "    data = np.random.random((4,4))\n",
    "    fig = plt.figure()\n",
    "    ax = fig.add_subplot(111)\n",
    "    cax = ax.imshow(dp,cmap=plt.cm.binary,alpha=0.75)\n",
    "\n",
    "    ax.set_xticklabels(['']+list(seq1))\n",
    "    ax.set_yticklabels(['']+list(seq2))\n",
    "    plt.title(heading)\n",
    "    plt.xlabel(seq1)\n",
    "    plt.ylabel(seq2)\n",
    "    plt.savefig(filename)\n",
    "    return plt.show()"
   ]
  },
  {
   "cell_type": "code",
   "execution_count": 37,
   "metadata": {},
   "outputs": [
    {
     "data": {
      "image/png": "[encoded data removed]",
      "text/plain": [
       "<Figure size 432x288 with 1 Axes>"
      ]
     },
     "metadata": {
      "needs_background": "light"
     },
     "output_type": "display_data"
    }
   ],
   "source": [
    "dotplot2Graphics(dp,seq1,seq2,\"My cool Plot\",\"Desktop/lol.jpeg\")"
   ]
  },
  {
   "cell_type": "markdown",
   "metadata": {},
   "source": [
    "c)"
   ]
  },
  {
   "cell_type": "code",
   "execution_count": 329,
   "metadata": {},
   "outputs": [],
   "source": [
    "#helper function to read the input fasta files.\n",
    "def fasta2dic(inputfile):\n",
    "    liste=[\"\",\"\"]\n",
    "    with open(inputfile,\"r\") as inputt:\n",
    "        lines=inputt.readlines()\n",
    "        for i in lines:\n",
    "            if i.startswith(\">\"):\n",
    "                liste[0]=liste[0]+ i.strip()\n",
    "            else:\n",
    "                liste[1]=liste[1] + i.strip()\n",
    "    return liste"
   ]
  },
  {
   "cell_type": "code",
   "execution_count": 332,
   "metadata": {},
   "outputs": [
    {
     "data": {
      "text/plain": [
       "'MFTLQPTPTAIGTVVPPWSAGTLIERLPSLEDMAHKDNVIAMRNLPCLGTAGGSGLGGIAGKPSPTMEAVEASTASHPHSTSSYFATTYYHLTDDECHSGVNQLGGVFVGGRPLPDSTRQKIVELAHSGARPCDISRILQVSNGCVSKILGRYYETGSIRPRAIGGSKPRVATAEVVSKISQYKRECPSIFAWEIRDRLLQENVCTNDNIPSVSSINRVLRNLAAQKEQQSTGSGSSSTSAGNSISAKVSVSIGGNVSNVASGSRGTLSSSTDLMQTATPLNSSESGGASNSGEGSEQEAIYEKLRLLNTQHAAGPGPLEPARAAPLVGQSPNHLGTRSSHPQLVHGNHQALQQHQQQSWPPRHYSGSWYPTSLSEIPISSAPNIASVTAYASGPSLAHSLSPPNDIESLASIGHQRNCPVATEDIHLKKELDGHQSDETGSGEGENSNGGASNIGNTEDDQARLILKRKLQRNRTSFTNDQIDSLEKEFERTHYPDVFARERLAGKIGLPEARIQVWFSNRRAKWRREEKLRNQRRTPNSTGASATSSSTSATASLTDSPNSLSACSSLLSGSAGGPSVSTINGLSSPSTLSTNVNAPTLGAGIDSSESPTPIPHIRPSCTSDNDNGRQSEDCRRVCSPCPLGVGGHQNTHHIQSNGHAQGHALVPAISPRLNFNSGSFGAMYSNMHHTALSMSDSYGAVTPIPSFNHSAVGPLAPPSPIPQQGDLTPSSLYPCHMTLRPPPMAPAHHHIVPGDGGRPAGVGLGSGQSANLGASCSGSGYEVLSAYALPPPPMASSSAADSSFSAASSASANVTPHHTIAQESCPSPCSSASHFGVAHSSGFSSDPISPAVSSYAHMSYNYASSANTMTPSSASGTSAHVAPGKQQFFASCFYSPWV'"
      ]
     },
     "execution_count": 332,
     "metadata": {},
     "output_type": "execute_result"
    }
   ],
   "source": [
    "#testing\n",
    "fasta2dic(\"Downloads/eyeless_NP_001014693.1.txt\")[1]"
   ]
  },
  {
   "cell_type": "code",
   "execution_count": null,
   "metadata": {},
   "outputs": [],
   "source": [
    "#!/usr/bin/python\n",
    "# the .py script. Feel free to export it as a .py script. \n",
    "\n",
    "import sys\n",
    "import numpy as np\n",
    "import matplotlib.pyplot as plt\n",
    "\n",
    "def fasta2list(inputfile):\n",
    "    liste=[\"\",\"\"]\n",
    "    with open(inputfile,\"r\") as inputt:\n",
    "        lines=inputt.readlines()\n",
    "        for i in lines:\n",
    "            if i.startswith(\">\"):\n",
    "                liste[0]=liste[0]+ i.strip()\n",
    "            else:\n",
    "                liste[1]=liste[1] + i.strip()\n",
    "    return liste\n",
    "\n",
    "def dotplot2Graphics(dp,seq1,seq2,filename):\n",
    "\n",
    "    fig = plt.figure()\n",
    "    ax = fig.add_subplot(111)\n",
    "    cax = ax.imshow(dp,cmap=plt.cm.binary,alpha=0.75)\n",
    "\n",
    "    ax.set_xticklabels([])\n",
    "    ax.set_yticklabels([])\n",
    "    plt.xlabel(seq1[0])\n",
    "    plt.ylabel(seq2[0])\n",
    "    plt.savefig(filename)\n",
    "    plt.title(\"Alignment\")\n",
    "    return plt.show()\n",
    "\n",
    "def dotplot2ASCII(dp,seq1,seq2,outputfile):\n",
    "    \n",
    "    with open(outputfile,\"w\") as out:\n",
    "        seq1_formatted=\" \"+seq1[1][:]\n",
    "        seq1_formatted_fin=\" \".join(seq1_formatted)\n",
    "        #out.writelines(title+\"\\n\"+\"\\n\")\n",
    "        out.writelines(seq1_formatted_fin+\"\\n\")\n",
    "        print (seq1_formatted_fin)\n",
    "        dp_list=dp.tolist()\n",
    "        for i in dp_list:\n",
    "            i.insert(0,seq2[1][dp_list.index(i)])\n",
    "            i=[i[0]]+[\"*\" if x==1 else \" \" for x in i[1:]]\n",
    "            out.writelines(\" \".join(map(str, i))+\"\\n\")\n",
    "\n",
    "def dot_plot(seq1,seq2,w=1,s=1):\n",
    "    assert w % 2 != 0\n",
    "    assert s>0\n",
    "    dp=np.zeros((len(seq2),len(seq1)),dtype=int)\n",
    "    for i in range(w//2,len(seq1)):\n",
    "        for j in range(w//2,len(seq2)):\n",
    "            if len((seq1[i-(w//2):i+(w//2)+1]))==len((seq2[j-(w//2):j+(w//2)+1]))==w:\n",
    "                if sum(a==b for a, b in zip(seq1[i-(w//2):i+(w//2)+1], seq2[j-(w//2):j+(w//2)+1]))==s:\n",
    "                    dp[j][i]=1\n",
    "\n",
    "    return dp\n",
    "\n",
    "print (sys.argv)\n",
    "seq1=fasta2list(sys.argv[3])\n",
    "seq2=fasta2list(sys.argv[4])\n",
    "dp=dot_plot(seq1[1],seq2[1],int(sys.argv[1]),int(sys.argv[2]))\n",
    "\n",
    "if sys.argv[5].endswith(\"fasta\"):\n",
    "    dotplot2Graphics(dp,seq1,seq2,sys.argv[5])\n",
    "    \n",
    "else:\n",
    "    dotplot2ASCII(dp,seq1,seq2,sys.argv[5],outputfile)\n",
    "    "
   ]
  },
  {
   "cell_type": "code",
   "execution_count": 39,
   "metadata": {
    "scrolled": true
   },
   "outputs": [
    {
     "name": "stdout",
     "output_type": "stream",
     "text": [
      "['Desktop/dot.py', '7', '4', 'Downloads/human_pax6_NM_001604.fasta', 'Downloads/human_pax6_NM_001604.fasta', 'Desktop/human-vs-mouse human-mouse.png']\n",
      "Figure(640x480)\n"
     ]
    }
   ],
   "source": [
    "! python Desktop/dot.py 7 4 \"Downloads/human_pax6_NM_001604.fasta\" \"Downloads/human_pax6_NM_001604.fasta\" \"Desktop/human-vs-mouse human-mouse.png\""
   ]
  },
  {
   "cell_type": "markdown",
   "metadata": {},
   "source": [
    "d)"
   ]
  },
  {
   "cell_type": "code",
   "execution_count": 42,
   "metadata": {},
   "outputs": [
    {
     "name": "stdout",
     "output_type": "stream",
     "text": [
      "['Desktop/dot.py', '23', '12', 'Downloads/human_pax6_NM_001604.fasta', 'Downloads/mouse_pax6_NM_013627.fasta', 'Desktop/human-vs-mouse human-mouse.png']\n",
      "Figure(640x480)\n"
     ]
    }
   ],
   "source": [
    "! python Desktop/dot.py 23 12 \"Downloads/human_pax6_NM_001604.fasta\" \"Downloads/mouse_pax6_NM_013627.fasta\" \"Desktop/human-vs-mouse human-mouse.png\""
   ]
  },
  {
   "cell_type": "code",
   "execution_count": null,
   "metadata": {},
   "outputs": [],
   "source": [
    "! python Desktop/dot.py 7 4 \"Downloads/PAX6_HUMAN_P26367.fasta\" \"Downloads/eyeless_NP_001014693.1.txt\" \"Desktop/Human_vs_eyeless.txt\""
   ]
  }
 ],
 "metadata": {
  "kernelspec": {
   "display_name": "Python 3",
   "language": "python",
   "name": "python3"
  },
  "language_info": {
   "codemirror_mode": {
    "name": "ipython",
    "version": 3
   },
   "file_extension": ".py",
   "mimetype": "text/x-python",
   "name": "python",
   "nbconvert_exporter": "python",
   "pygments_lexer": "ipython3",
   "version": "3.6.8"
  }
 },
 "nbformat": 4,
 "nbformat_minor": 2
}
