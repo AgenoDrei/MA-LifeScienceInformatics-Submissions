{
 "cells": [
  {
   "cell_type": "code",
   "execution_count": 1,
   "metadata": {},
   "outputs": [
    {
     "data": {
      "text/plain": [
       "{'H': 0.041666666666666664,\n",
       " 'V': 0.16666666666666666,\n",
       " 'Q': 0.020833333333333332,\n",
       " 'Y': 0.125,\n",
       " 'L': 0.041666666666666664,\n",
       " 'K': 0.20833333333333334,\n",
       " 'T': 0.125,\n",
       " 'S': 0.14583333333333334,\n",
       " 'P': 0.041666666666666664,\n",
       " 'F': 0.041666666666666664,\n",
       " 'A': 0.041666666666666664}"
      ]
     },
     "execution_count": 1,
     "metadata": {},
     "output_type": "execute_result"
    }
   ],
   "source": [
    "#exercise 1\n",
    "\n",
    "string_1=\"TSVKTYAKFVTH\"\n",
    "string_2=\"TSVKTYAKFSTH\"\n",
    "string_3=\"LSVKKYPKYVVQ\"\n",
    "string_4=\"SSVKKYPKYSVL\"\n",
    "strings=[string_1,string_2,string_3,string_4]\n",
    "\n",
    "def p_i(strings):\n",
    "    \"\"\" computes the frequencies/rates of each AA in the strings\"\"\"\n",
    "    summ=\"\"\n",
    "    frequencies={}\n",
    "    for i in strings:\n",
    "        summ=summ+i\n",
    "    for j in set(summ):\n",
    "        frequencies[j]=summ.count(j)/len(summ)\n",
    "    return frequencies\n",
    "p_i(strings)"
   ]
  },
  {
   "cell_type": "code",
   "execution_count": 2,
   "metadata": {},
   "outputs": [],
   "source": [
    "#helper function\n",
    "def alignment_freq(s1,s2,pair):\n",
    "    res = [''.join(map(str,x)) for x in zip(*[s1,s2])]\n",
    "    a=0\n",
    "    for i in res:\n",
    "        if set(i)==set(pair):\n",
    "            a+=1\n",
    "    return a/len(res)"
   ]
  },
  {
   "cell_type": "code",
   "execution_count": 4,
   "metadata": {},
   "outputs": [],
   "source": [
    "import itertools\n",
    "acids=set(\"WYPALVISPDCHEDVTLKKDNVLVRSFKDGKFYTVLRKDVREINCDFPPSDDEGEIDSDSSDDEPHEEKDRFVAQLYKYMDDRGTPLNKVPSILSRDVDLYRLFDCPPGWVWEDEWTVDDNRAVDDQGWEYGVTIPPDDKPRSWVPAEKVYHVHRICFNITDPYAHISFLHLSKTTEKLRATLNPTWDQTLIFSDIEIYGDPQNIFQRPRALLSVGLNLLALLFSTTAFITTYWCEGTQVHYSWETGDDRFLFRRFHTGIWYSCEEQGSCHPTLRFGGEWLMEKASLLHLPWGPVAKVFWLSLGAQTAYIGLQLISAGAGDHQDPSLGAGEAASKESEPKQSTEKPEETLKREQSHAEISPPAESGQAVKTEAEPTHVNEEKLEHETAVTVSEEVSKQLLQTVNVPIIDGAKEVSSLEGSPPPRSPGWMDFIQHLGVCCLVFENFYITEAFEDYDDQYYQIMGLRVLPLSNCEDNKF\")\n",
    "occurencies=list(itertools.combinations(acids, 2))+[tuple([i,i]) for i in acids]\n",
    "#print (occurencies)\n",
    "def p_ij(strings):\n",
    "    \"\"\"computes probabilties of each AA's mapping in an alignment\"\"\"\n",
    "    frequences={x:0 for x in occurencies}\n",
    "    pairs=itertools.combinations(strings, 2)  \n",
    "    for i in list(pairs):\n",
    "        for j in occurencies:\n",
    "            if tuple(j) in occurencies:\n",
    "                frequences[j]=frequences[j]+alignment_freq(i[0],i[1],j)\n",
    "    return frequences"
   ]
  },
  {
   "cell_type": "code",
   "execution_count": 5,
   "metadata": {},
   "outputs": [],
   "source": [
    "import math\n",
    "def s_e_ij(dicty,database):\n",
    "    \"\"\"computes the s values. Uses p_i and p_ij as helper functions. \n",
    "    This function will be used for the blosum matrox later on\"\"\"\n",
    "    \n",
    "    dict_out={x:[] for x in dicty.keys() }\n",
    "    for i in dicty.keys():\n",
    "        if p_ij(database)[i]!=0.0:\n",
    "            if i[0]==i[1]:\n",
    "                e=p_i(database)[i[0]]*p_i(database)[i[1]]\n",
    "            else:\n",
    "                e=2*p_i(database)[i[0]]*p_i(database)[i[1]]\n",
    "            s=2*math.log((p_ij(database)[i]/e),2)\n",
    "        else:\n",
    "            if i[0]==i[1]:\n",
    "                e=p_i(database)[i[0]]*p_i(database)[i[1]]\n",
    "            else:\n",
    "                e=2*p_i(database)[i[0]]*p_i(database)[i[1]]\n",
    "            s=-99\n",
    "        dict_out[i].append([e,int(round(s))])\n",
    "    return dict_out"
   ]
  },
  {
   "cell_type": "code",
   "execution_count": 6,
   "metadata": {},
   "outputs": [
    {
     "data": {
      "text/plain": [
       "{('T', 'T'): [[0.015625, 8]],\n",
       " ('T', 'L'): [[0.010416666666666666, 8]],\n",
       " ('T', 'S'): [[0.036458333333333336, 4]],\n",
       " ('S', 'S'): [[0.021267361111111115, 10]],\n",
       " ('V', 'V'): [[0.027777777777777776, 9]],\n",
       " ('K', 'K'): [[0.04340277777777778, 9]],\n",
       " ('T', 'K'): [[0.052083333333333336, 5]],\n",
       " ('Y', 'Y'): [[0.015625, 10]],\n",
       " ('A', 'A'): [[0.001736111111111111, 11]],\n",
       " ('A', 'P'): [[0.003472222222222222, 13]],\n",
       " ('P', 'P'): [[0.001736111111111111, 11]],\n",
       " ('F', 'F'): [[0.001736111111111111, 11]],\n",
       " ('F', 'Y'): [[0.010416666666666666, 10]],\n",
       " ('V', 'S'): [[0.04861111111111111, 6]],\n",
       " ('T', 'V'): [[0.041666666666666664, 6]],\n",
       " ('H', 'H'): [[0.001736111111111111, 11]],\n",
       " ('H', 'Q'): [[0.001736111111111111, 13]],\n",
       " ('H', 'L'): [[0.003472222222222222, 11]],\n",
       " ('Q', 'L'): [[0.001736111111111111, 11]]}"
      ]
     },
     "execution_count": 6,
     "metadata": {},
     "output_type": "execute_result"
    }
   ],
   "source": [
    "#testing\n",
    "occurencies=[tuple(i) for i in ['TT','TL','TS','SS','VV','KK','TK','YY','AA','AP','PP','FF','FY','VS','TV','HH','HQ','HL','QL']]\n",
    "s_e_ij(p_ij(strings),strings)"
   ]
  },
  {
   "cell_type": "code",
   "execution_count": 7,
   "metadata": {},
   "outputs": [
    {
     "name": "stdout",
     "output_type": "stream",
     "text": [
      " ab,       e(ab),s(ab)\n",
      "('T', 'T') 1.56% 8\n",
      "('T', 'L') 1.04% 8\n",
      "('T', 'S') 3.65% 4\n",
      "('S', 'S') 2.13% 10\n",
      "('V', 'V') 2.78% 9\n",
      "('K', 'K') 4.34% 9\n",
      "('T', 'K') 5.21% 5\n",
      "('Y', 'Y') 1.56% 10\n",
      "('A', 'A') 0.17% 11\n",
      "('A', 'P') 0.35% 13\n",
      "('P', 'P') 0.17% 11\n",
      "('F', 'F') 0.17% 11\n",
      "('F', 'Y') 1.04% 10\n",
      "('V', 'S') 4.86% 6\n",
      "('T', 'V') 4.17% 6\n",
      "('H', 'H') 0.17% 11\n",
      "('H', 'Q') 0.17% 13\n",
      "('H', 'L') 0.35% 11\n",
      "('Q', 'L') 0.17% 11\n"
     ]
    }
   ],
   "source": [
    "# compute e and s values in a little loop for the small alignment:\n",
    "import math\n",
    "occurencies=[tuple(i) for i in ['TT','TL','TS','SS','VV','KK','TK','YY','AA','AP','PP','FF','FY','VS','TV','HH','HQ','HL','QL']]\n",
    "dictio={}\n",
    "print (\" ab,       e(ab),s(ab)\")\n",
    "for i in p_ij(strings).keys():\n",
    "    if i[0]==i[1]:\n",
    "        e=p_i(strings)[i[0]]*p_i(strings)[i[1]]\n",
    "    else:\n",
    "        e=2*p_i(strings)[i[0]]*p_i(strings)[i[1]]\n",
    "    s=2*math.log((p_ij(strings)[i]/e),2)\n",
    "    dictio[i]=[\"{:.2%}\".format(e),s]\n",
    "    print (i,\"{:.2%}\".format(e),int(round(s)))"
   ]
  },
  {
   "cell_type": "markdown",
   "metadata": {},
   "source": [
    "Exercise 2\n",
    "Different functions I defined in the previous lines will be used for this script."
   ]
  },
  {
   "cell_type": "code",
   "execution_count": null,
   "metadata": {},
   "outputs": [],
   "source": [
    "# the final script. copy paste this into your editor and save as .py file:\n",
    "\n",
    "#!/usr/bin/python\n",
    "\n",
    "import itertools\n",
    "import math\n",
    "import copy\n",
    "import sys\n",
    "\n",
    "def p_i(strings):\n",
    "    \"helper function calulates the number of occurencies of the amino acid in a string\"\n",
    "    summ=\"\"\n",
    "    frequencies={}\n",
    "    for i in strings:\n",
    "        summ=summ+i\n",
    "    for j in set(summ):\n",
    "        frequencies[j]=summ.count(j)/len(summ)\n",
    "    return frequencies\n",
    "\n",
    "def alignment_freq(s1,s2,pair): \n",
    "    \"Helper function calculates the frequency of each mapped amino acid in an pairwise alignment\"\n",
    "    res = [''.join(map(str,x)) for x in zip(*[s1,s2])]\n",
    "    a=0\n",
    "    for i in res:\n",
    "        if set(i)==set(pair):\n",
    "            a+=1\n",
    "    return a/len(res)\n",
    "\n",
    "def p_ij(strings):\n",
    "    \"Calculates the p_ij values and stores them in a dictionary\"\n",
    "    frequences={x:0 for x in occurencies}\n",
    "    pairs=itertools.combinations(strings, 2)  \n",
    "    for i in list(pairs):\n",
    "        for j in occurencies:\n",
    "            if tuple(j) in occurencies:\n",
    "                frequences[j]=frequences[j]+alignment_freq(i[0],i[1],j)\n",
    "    return frequences\n",
    "\n",
    "def s_e_ij(dicty,database):\n",
    "    \"calculates the s values from the p values and stores them in a dictionary\"\"\n",
    "    dict_out={x:None for x in dicty.keys() }\n",
    "    for i in dicty.keys():\n",
    "        if p_ij(database)[i]!=0.0:\n",
    "            if i[0]==i[1]:\n",
    "                e=p_i(database)[i[0]]*p_i(database)[i[1]]\n",
    "            else:\n",
    "                e=2*p_i(database)[i[0]]*p_i(database)[i[1]]\n",
    "            #print (\"e\",e)\n",
    "            print (\"p_ij \",p_ij(database)[i])\n",
    "            s=2*math.log((p_ij(database)[i]/e),2)\n",
    "        else:\n",
    "            if i[0]==i[1]:\n",
    "                e=p_i(database)[i[0]]*p_i(database)[i[1]]\n",
    "            else:\n",
    "                e=2*p_i(database)[i[0]]*p_i(database)[i[1]]\n",
    "            s=-99\n",
    "        #print (s)\n",
    "        dict_out[i]=[e,int(round(s))] #dict_out[i].append([e,int(round(s))]) BEFORE\n",
    "        #print (dict_out)\n",
    "    return dict_out\n",
    "\n",
    "# all Amino Acids as a set:\n",
    "acids=set(\"WYPALVISPDCHEDVTLKKDNVLVRSFKDGKFYTVLRKDVREINCDFPPSDDEGEIDSDSSDDEPHEEKDRFVAQLYKYMDDRGTPLNKVPSILSRDVDLYRLFDCPPGWVWEDEWTVDDNRAVDDQGWEYGVTIPPDDKPRSWVPAEKVYHVHRICFNITDPYAHISFLHLSKTTEKLRATLNPTWDQTLIFSDIEIYGDPQNIFQRPRALLSVGLNLLALLFSTTAFITTYWCEGTQVHYSWETGDDRFLFRRFHTGIWYSCEEQGSCHPTLRFGGEWLMEKASLLHLPWGPVAKVFWLSLGAQTAYIGLQLISAGAGDHQDPSLGAGEAASKESEPKQSTEKPEETLKREQSHAEISPPAESGQAVKTEAEPTHVNEEKLEHETAVTVSEEVSKQLLQTVNVPIIDGAKEVSSLEGSPPPRSPGWMDFIQHLGVCCLVFENFYITEAFEDYDDQYYQIMGLRVLPLSNCEDNKF\")\n",
    "# all possible combinations of amino acids\n",
    "occurencies=list(itertools.combinations(acids, 2))+[tuple([i,i]) for i in acids]\n",
    "\n",
    "# open the alignment file and calculate the s values using my s_e_ij and p_ij functions. stored in dictio!\n",
    "with open(sys.argv[1],\"r\") as alignment:\n",
    "    database=[i.strip() for i in alignment.readlines()]\n",
    "    dictio=s_e_ij(p_ij(database),database)\n",
    "    \n",
    "# using the dictio(nary) to basically build up the blosum matrix in teh next couple of lines:\n",
    "# side note: some lines could be put together to increase running time, but I kept it that way to remain structure in my code.:\n",
    " sorted_dictio={}\n",
    "for i in sorted(dictio.keys()):\n",
    "    if i[0] not in sorted_dictio:\n",
    "        sorted_dictio[i[0]]=[i[1],dictio[i][1]]\n",
    "    else:\n",
    "        sorted_dictio[i[0]].extend([i[1],dictio[i][1]])\n",
    "        \n",
    "matrix=[[i+1001 for i in range(len(sorted_dictio.keys())+1)] for i in range(len(sorted_dictio.keys())+1)]\n",
    "matrix[0]=list(sorted_dictio.keys())\n",
    "\n",
    "a=0\n",
    "for i in matrix[1:]:\n",
    "    i[0]=list(sorted_dictio.keys())[a]\n",
    "    a+=1\n",
    "    \n",
    "lookup_line= copy.deepcopy(matrix[0])\n",
    "matrix[0].insert(0,\" \")\n",
    "\n",
    "for i in matrix[1:]:\n",
    "    a=0\n",
    "    for j in i[1:]:\n",
    "        if a==21:\n",
    "            a=20\n",
    "        if lookup_line[a] in sorted_dictio[i[0]]:\n",
    "            matrix[matrix.index(i)][i.index(j)]=str(round(int(sorted_dictio[i[0]][sorted_dictio[i[0]].index(lookup_line[a])+1])))\n",
    "        a+=1\n",
    "\n",
    "for i in matrix:\n",
    "    for j in i:\n",
    "        if type(j)==int and j>=1000:\n",
    "            matrix[matrix.index(i)][i.index(j)]=str(0)\n",
    "\n",
    "# write the final matrix to the the output file\n",
    "with open(sys.argv[2],\"w\") as blosum:\n",
    "    blosum.writelines(\"My Blosum Matrix\"+\"\\n\")\n",
    "    for i in matrix:\n",
    "        blosum.writelines(\" \".join(i)+\"\\n\")"
   ]
  },
  {
   "cell_type": "markdown",
   "metadata": {},
   "source": [
    "This script unfortunately takes like 5-7 minutes for the Alignment data. Pls check my matrix, I'm gonna upload as well."
   ]
  },
  {
   "cell_type": "code",
   "execution_count": null,
   "metadata": {},
   "outputs": [],
   "source": [
    "# The command line execution\n",
    "! python Desktop/blosum.py Downloads/alignment.dat Desktop/blosum_handmade.txt"
   ]
  },
  {
   "cell_type": "code",
   "execution_count": null,
   "metadata": {},
   "outputs": [],
   "source": []
  }
 ],
 "metadata": {
  "kernelspec": {
   "display_name": "Python 3",
   "language": "python",
   "name": "python3"
  },
  "language_info": {
   "codemirror_mode": {
    "name": "ipython",
    "version": 3
   },
   "file_extension": ".py",
   "mimetype": "text/x-python",
   "name": "python",
   "nbconvert_exporter": "python",
   "pygments_lexer": "ipython3",
   "version": "3.6.8"
  }
 },
 "nbformat": 4,
 "nbformat_minor": 2
}
