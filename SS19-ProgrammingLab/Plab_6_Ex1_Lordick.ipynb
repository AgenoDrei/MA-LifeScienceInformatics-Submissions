{
 "cells": [
  {
   "cell_type": "code",
   "execution_count": 91,
   "metadata": {},
   "outputs": [],
   "source": [
    "#1 \n",
    "#a and b) works for both multiple and single fasta files. Returns list of tuple(s).\n",
    "\n",
    "def fasta_reader(inputfile): \n",
    "    with open(inputfile,\"r\") as fasta:\n",
    "        lines=fasta.readlines()\n",
    "        fasta_dic={}\n",
    "        for i in lines:\n",
    "            j=i.rstrip()[1:]\n",
    "            if i.startswith(\">\"):\n",
    "                header=j\n",
    "                fasta_dic[header]=\"\"\n",
    "            else:\n",
    "                fasta_dic[header]=fasta_dic[header] + str(j)\n",
    "        return list(fasta_dic.items())"
   ]
  },
  {
   "cell_type": "code",
   "execution_count": null,
   "metadata": {
    "scrolled": false
   },
   "outputs": [],
   "source": [
    "#d) test it. Might take some time due to file size\n",
    "fasta_reader(\"Downloads/ecoli-genes.ffn\")"
   ]
  },
  {
   "cell_type": "code",
   "execution_count": 85,
   "metadata": {},
   "outputs": [],
   "source": [
    "#c) same as fasta_reader just yielding a generator object you can iterate over.\n",
    "def read_fasta_generator(filename):\n",
    "    name = None\n",
    "    with open(filename) as file:\n",
    "        for line in file.readlines():\n",
    "            if line[0] == \">\":\n",
    "                if name:\n",
    "                    yield (name, seq)\n",
    "                name = line[1:].strip()\n",
    "                seq = \"\"\n",
    "            else:\n",
    "                seq += line[:-1]\n",
    "        yield (name, seq)"
   ]
  },
  {
   "cell_type": "code",
   "execution_count": 86,
   "metadata": {},
   "outputs": [],
   "source": [
    "# d)\n",
    "# maximum sequence, max sequence, last sequence\n",
    "g=read_fasta_generator(\"Downloads/ecoli-genes.ffn\")\n",
    "\n",
    "max_=0\n",
    "min_=float(\"inf\")\n",
    "for header,sequence in g:\n",
    "    if len(sequence)>max_:\n",
    "        max_=len(sequence)\n",
    "        max_title=header\n",
    "    if len(sequence)< min_:\n",
    "        min_=len(sequence)\n",
    "        min_title=header\n",
    "        \n",
    "    last=(header,sequence)"
   ]
  },
  {
   "cell_type": "code",
   "execution_count": 87,
   "metadata": {},
   "outputs": [
    {
     "name": "stdout",
     "output_type": "stream",
     "text": [
      "Sequence Name of max. length:  gi|556503834|ref|NC_000913.3|:2044938-2052014 Escherichia coli str. K-12 substr. MG1655, complete genome\n",
      "Length:  7077\n",
      "\n",
      "Sequence Name of min. length:  gi|556503834|ref|NC_000913.3|:c1323082-1323038 Escherichia coli str. K-12 substr. MG1655, complete genome\n",
      "Length:  45\n",
      "\n",
      "Last Sequence: \n",
      " gi|556503834|ref|NC_000913.3|:4640942-4641628 Escherichia coli str. K-12 substr. MG1655, complete genome\n",
      "ATGCGTATAACGATTATTCTGGTCGCACCCGCCAGAGCAGAAAATATTGGGGCAGCGGCGCGGGCAATGAAAACGATGGGGTTTAGCGATCTGCGGATTGTCGATAGTCAGGCACACCTGGAGCCAGCCACCCGCTGGGTCGCACATGGATCTGGTGATATTATTGATAATATTAAAGTTTTCCCGACATTGGCTGAATCGTTACACGATGTCGATTTCACTGTCGCCACCACTGCGCGCAGTCGGGCGAAATATCATTACTACGCCACGCCAGTTGAACTGGTGCCGCTGTTAGAGGAAAAATCTTCATGGATGAGCCATGCCGCGCTGGTGTTTGGTCGCGAAGATTCCGGGTTGACTAACGAAGAGTTAGCGTTGGCTGACGTTCTTACTGGTGTGCCGATGGTGGCGGATTATCCTTCGCTCAATCTGGGGCAGGCGGTGATGGTCTATTGCTATCAATTAGCAACATTAATACAACAACCGGCGAAAAGTGATGCAACGGCAGACCAACATCAACTGCAAGCTTTACGCGAACGAGCCATGACATTGCTGACGACTCTGGCAGTGGCAGATGACATAAAACTGGTCGACTGGTTACAACAACGCCTGGGGCTTTTAGAGCAACGAGACACGGCAATGTTGCACCGTTTGCTGCATGATATTGAAAAAAATATCACCAAATAA\n"
     ]
    }
   ],
   "source": [
    "print (\"Sequence Name of max. length: \", max_title)\n",
    "print (\"Length: \", max_)\n",
    "print ()\n",
    "print (\"Sequence Name of min. length: \", min_title)\n",
    "print (\"Length: \", min_)\n",
    "print ()\n",
    "print (\"Last Sequence: \\n\", last[0])\n",
    "print (last[1])"
   ]
  },
  {
   "cell_type": "code",
   "execution_count": 88,
   "metadata": {},
   "outputs": [],
   "source": [
    "#e) #writes header and sequence in fasta-format to an OPENED file\n",
    "\n",
    "def write_fasta(header,sequence,outfile):\n",
    "    import textwrap\n",
    "    outfile.write(\">\" + header+\"\\n\")\n",
    "    for i in textwrap.wrap(sequence,70):\n",
    "        outfile.write(i+\"\\n\")\n",
    "    outfile.write(\"\\n\")"
   ]
  },
  {
   "cell_type": "code",
   "execution_count": 89,
   "metadata": {},
   "outputs": [],
   "source": [
    "# test it\n",
    "with open(\"Desktop/funny_fasta_replicate.txt\",\"w\") as output:\n",
    "    for i in fasta_reader(\"Downloads/ecoli-genes.ffn\"):\n",
    "        write_fasta(i[0],i[1],output)"
   ]
  },
  {
   "cell_type": "code",
   "execution_count": 90,
   "metadata": {},
   "outputs": [
    {
     "name": "stdout",
     "output_type": "stream",
     "text": [
      "Import modules \"fasta_reader\", \"read_fasta\" and \"write_fasta\" from this file\n"
     ]
    }
   ],
   "source": [
    "#f) #the script.\n",
    "\n",
    "#!/usr/bin/python\n",
    "\n",
    "def fasta_reader(inputfile): \n",
    "    with open(inputfile,\"r\") as fasta:\n",
    "        lines=fasta.readlines()\n",
    "        fasta_dic={}\n",
    "        for i in lines:\n",
    "            j=i.rstrip()[1:]\n",
    "            if i.startswith(\">\"):\n",
    "                header=j\n",
    "                fasta_dic[header]=\"\"\n",
    "            else:\n",
    "                fasta_dic[header]=fasta_dic[header] + str(j)\n",
    "        return list(fasta_dic.items())\n",
    "    \n",
    "def read_fasta_generator(filename):\n",
    "    name = None\n",
    "    with open(filename) as file:\n",
    "        for line in file.readlines():\n",
    "            if line[0] == \">\":\n",
    "                if name:\n",
    "                    yield (name, seq)\n",
    "                name = line[1:].strip()\n",
    "                seq = \"\"\n",
    "            else:\n",
    "                seq += line[:-1]\n",
    "        yield (name, seq)\n",
    "        \n",
    "def write_fasta(header,sequence,outfile):\n",
    "    import textwrap\n",
    "    outfile.write(\">\" + header+\"\\n\")\n",
    "    for i in textwrap.wrap(sequence,70):\n",
    "        outfile.write(i+\"\\n\")\n",
    "    outfile.write(\"\\n\")\n",
    "    \n",
    "if __name__ == '__main__':\n",
    "    print (\"Import modules \\\"fasta_reader\\\", \\\"read_fasta\\\" and \\\"write_fasta\\\" from this file\")"
   ]
  },
  {
   "cell_type": "code",
   "execution_count": 95,
   "metadata": {},
   "outputs": [
    {
     "data": {
      "text/plain": [
       "('gi|556503834|ref|NC_000913.3|:190-255 Escherichia coli str. K-12 substr. MG1655, complete genome',\n",
       " 'TGAAACGCATTAGCACCACCATTACCACCACCATCACCATTACCACAGGTAACGGTGCGGGCTGA')"
      ]
     },
     "execution_count": 95,
     "metadata": {},
     "output_type": "execute_result"
    }
   ],
   "source": [
    "#example:\n",
    "from fastatools import fasta_reader\n",
    "\n",
    "fasta_reader(\"Downloads/ecoli-genes.ffn\")[0]"
   ]
  },
  {
   "cell_type": "code",
   "execution_count": null,
   "metadata": {},
   "outputs": [],
   "source": []
  }
 ],
 "metadata": {
  "kernelspec": {
   "display_name": "Python 3",
   "language": "python",
   "name": "python3"
  },
  "language_info": {
   "codemirror_mode": {
    "name": "ipython",
    "version": 3
   },
   "file_extension": ".py",
   "mimetype": "text/x-python",
   "name": "python",
   "nbconvert_exporter": "python",
   "pygments_lexer": "ipython3",
   "version": "3.6.8"
  }
 },
 "nbformat": 4,
 "nbformat_minor": 2
}
