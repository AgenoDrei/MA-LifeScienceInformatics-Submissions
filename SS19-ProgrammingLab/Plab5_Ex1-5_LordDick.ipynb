{
 "cells": [
  {
   "cell_type": "code",
   "execution_count": 38,
   "metadata": {},
   "outputs": [],
   "source": [
    "# Exercise 1 #\n",
    "def dist_mod(file):\n",
    "    \n",
    "    \"\"\" Reads distance file converts it into a dictionary\"\"\"\n",
    "    \n",
    "    with open(file,\"r\") as distances:\n",
    "        lines = distances.readlines()\n",
    "        distances_dictio={}\n",
    "        line1=lines[0].strip(\"  \").split()\n",
    "        for i in lines[1:]:\n",
    "            k=i.replace(\"   \",\"  \").replace(\"  \",\" \").strip().split(\" \")\n",
    "            distances_dictio[k[0]]={line1[i]:int(k[i+1]) for i in range(len(line1))}\n",
    "        return distances_dictio"
   ]
  },
  {
   "cell_type": "code",
   "execution_count": 39,
   "metadata": {},
   "outputs": [
    {
     "data": {
      "text/plain": [
       "dict_items([('A', {'A': 0, 'B': 2, 'C': 5, 'D': 9, 'E': 5, 'F': 5, 'G': 3, 'H': 7, 'I': 6, 'J': 2, 'K': 1, 'L': 1, 'M': 8}), ('B', {'A': 2, 'B': 0, 'C': 7, 'D': 11, 'E': 7, 'F': 7, 'G': 5, 'H': 9, 'I': 8, 'J': 4, 'K': 3, 'L': 1, 'M': 8}), ('C', {'A': 5, 'B': 7, 'C': 0, 'D': 6, 'E': 4, 'F': 4, 'G': 6, 'H': 2, 'I': 5, 'J': 3, 'K': 6, 'L': 6, 'M': 9}), ('D', {'A': 9, 'B': 11, 'C': 6, 'D': 0, 'E': 8, 'F': 4, 'G': 10, 'H': 6, 'I': 3, 'J': 7, 'K': 10, 'L': 10, 'M': 15}), ('E', {'A': 5, 'B': 7, 'C': 4, 'D': 8, 'E': 0, 'F': 4, 'G': 2, 'H': 6, 'I': 5, 'J': 3, 'K': 4, 'L': 6, 'M': 13}), ('F', {'A': 5, 'B': 7, 'C': 4, 'D': 4, 'E': 4, 'F': 0, 'G': 6, 'H': 4, 'I': 1, 'J': 3, 'K': 6, 'L': 6, 'M': 13}), ('G', {'A': 3, 'B': 5, 'C': 6, 'D': 10, 'E': 2, 'F': 6, 'G': 0, 'H': 8, 'I': 7, 'J': 3, 'K': 2, 'L': 4, 'M': 11}), ('H', {'A': 7, 'B': 9, 'C': 2, 'D': 6, 'E': 6, 'F': 4, 'G': 8, 'H': 0, 'I': 5, 'J': 5, 'K': 8, 'L': 8, 'M': 9}), ('I', {'A': 6, 'B': 8, 'C': 5, 'D': 3, 'E': 5, 'F': 1, 'G': 7, 'H': 5, 'I': 0, 'J': 4, 'K': 7, 'L': 7, 'M': 14}), ('J', {'A': 2, 'B': 4, 'C': 3, 'D': 7, 'E': 3, 'F': 3, 'G': 3, 'H': 5, 'I': 4, 'J': 0, 'K': 3, 'L': 3, 'M': 10}), ('K', {'A': 1, 'B': 3, 'C': 6, 'D': 10, 'E': 4, 'F': 6, 'G': 2, 'H': 8, 'I': 7, 'J': 3, 'K': 0, 'L': 2, 'M': 9}), ('L', {'A': 1, 'B': 1, 'C': 6, 'D': 10, 'E': 6, 'F': 6, 'G': 4, 'H': 8, 'I': 7, 'J': 3, 'K': 2, 'L': 0, 'M': 7}), ('M', {'A': 8, 'B': 8, 'C': 9, 'D': 15, 'E': 13, 'F': 13, 'G': 11, 'H': 9, 'I': 14, 'J': 10, 'K': 9, 'L': 7, 'M': 0})])"
      ]
     },
     "execution_count": 39,
     "metadata": {},
     "output_type": "execute_result"
    }
   ],
   "source": [
    "dist_mod(\"Downloads/distances.txt\").items()"
   ]
  },
  {
   "cell_type": "code",
   "execution_count": 40,
   "metadata": {},
   "outputs": [],
   "source": [
    "# Exercise 2\n",
    "string_1=\"((('A','B'),'C'),('D','E'))\" #for testing\n",
    "string_2=\"(('A','B'),'C')\"\n",
    "import re\n",
    "def elemantary_objects(string):\n",
    "    \n",
    "    \"\"\" Counts number of clusters of input string \"\"\"\n",
    "    \n",
    "    return len(re.sub('[^a-zA-Z]+', '', str(string)))"
   ]
  },
  {
   "cell_type": "code",
   "execution_count": 41,
   "metadata": {},
   "outputs": [
    {
     "name": "stdout",
     "output_type": "stream",
     "text": [
      "5\n",
      "3\n"
     ]
    }
   ],
   "source": [
    "print (elemantary_objects(string_1))\n",
    "print (elemantary_objects(string_2))"
   ]
  },
  {
   "cell_type": "code",
   "execution_count": 44,
   "metadata": {},
   "outputs": [],
   "source": [
    "# Exercise 3\n",
    "def merge(matrix,cluster1,cluster2):\n",
    "    \n",
    "    \"\"\" Takes a distances matrix and two clusters as input and merges both clusters. Returns updated distance matrix\n",
    "        in dictionary format. \"\"\"\n",
    "    \n",
    "    assert cluster1 in matrix and cluster2 in matrix\n",
    "    len_cluster1=elemantary_objects(cluster1)\n",
    "    len_cluster2=elemantary_objects(cluster2)\n",
    "    matrix_new={}\n",
    "    matrix_new[str((cluster1,cluster2)).replace(\"\\'\",\"\")]={i:(1/(len_cluster1+len_cluster2))*len_cluster1*matrix[cluster1][i]*len_cluster2*matrix[cluster2][i] for i in matrix.keys() if i not in [cluster1,cluster2]}\n",
    "    matrix_new[str((cluster1,cluster2)).replace(\"\\'\",\"\")][str((cluster1,cluster2)).replace(\"\\'\",\"\")]=0\n",
    "    #print (matrix_new)\n",
    "    for i in matrix.keys():\n",
    "        if i not in [cluster1,cluster2]:\n",
    "     #       print (i)\n",
    "            matrix_new[i]={k if k not in [cluster1,cluster2] else str((cluster1,cluster2)).replace(\"\\'\",\"\"):v if k not in [cluster1,cluster2] else matrix_new[str((cluster1,cluster2)).replace(\"\\'\",\"\")][i] for k,v in matrix[i].items()}\n",
    "    return matrix_new    "
   ]
  },
  {
   "cell_type": "code",
   "execution_count": 47,
   "metadata": {},
   "outputs": [
    {
     "name": "stdout",
     "output_type": "stream",
     "text": [
      "{'(A, B)': {'C': 2.5, 'D': 2.0, 'E': 7.5, '(A, B)': 0}, 'C': {'(A, B)': 2.5, 'C': 0, 'D': 3, 'E': 6}, 'D': {'(A, B)': 2.0, 'C': 3, 'D': 0, 'E': 3}, 'E': {'(A, B)': 7.5, 'C': 6, 'D': 3, 'E': 0}}\n",
      "\n",
      "{'((A, B), C)': {'D': 4.0, 'E': 30.0, '((A, B), C)': 0}, 'D': {'((A, B), C)': 4.0, 'D': 0, 'E': 3}, 'E': {'((A, B), C)': 30.0, 'D': 3, 'E': 0}}\n"
     ]
    }
   ],
   "source": [
    "matrix_2=merge(dist_mod(\"Downloads/small-distances.txt\"),\"A\",\"B\") #merge A and B\n",
    "print (matrix_2)\n",
    "print ()\n",
    "matrix3=merge(matrix_2,\"(A, B)\",\"C\") # merge (A,B) and C\n",
    "print (matrix3)"
   ]
  },
  {
   "cell_type": "code",
   "execution_count": 36,
   "metadata": {},
   "outputs": [],
   "source": [
    "# Exercise 4\n",
    "def smallest(matrix):\n",
    "    \n",
    "    \"\"\" Returns smallest cluster of distance matrix as input\"\"\"\n",
    "    \n",
    "    a=0\n",
    "    minima=[]\n",
    "    for key in matrix.keys():\n",
    "        if a==0:\n",
    "            minimum=min([x for x in matrix[key].items() if x[0]!=key], key=lambda x: x[1]) \n",
    "            cluster=(key,minimum[0])\n",
    "        else:\n",
    "            if min([x for x in matrix[key].items() if x[0]!=key], key=lambda x: x[1])[1]<minimum[1]:\n",
    "                minimum=min([x for x in matrix[key].items() if x[0]!=key], key=lambda x: x[1])\n",
    "                cluster=(key,minimum[0])\n",
    "        a+=1\n",
    "    \n",
    "    return cluster"
   ]
  },
  {
   "cell_type": "code",
   "execution_count": 14,
   "metadata": {},
   "outputs": [
    {
     "data": {
      "text/plain": [
       "('D', 'E')"
      ]
     },
     "execution_count": 14,
     "metadata": {},
     "output_type": "execute_result"
    }
   ],
   "source": [
    "smallest(matrix3)"
   ]
  },
  {
   "cell_type": "code",
   "execution_count": 43,
   "metadata": {},
   "outputs": [],
   "source": [
    "#Exercise 5\n",
    "def hier_cluster(matrix_path):\n",
    "    \n",
    "    \"\"\" The Hierarchicalclustering algorithm. Takes Matrix path as input and returns final cluster tuple and height matrix\n",
    "        as tuple \"\"\"\n",
    "    \n",
    "    matrix=dist_mod(matrix_path)\n",
    "    height_dictionary={}\n",
    "    while len(matrix.keys())>1:\n",
    "        current_cluster=smallest(matrix)\n",
    "        height_dictionary[current_cluster]=matrix[current_cluster[0]][current_cluster[1]]/2\n",
    "        matrix=merge(matrix,smallest(matrix)[0],smallest(matrix)[1])\n",
    "        \n",
    "    tuple_final=list(matrix.keys())[0]\n",
    "    return tuple_final,height_dictionary"
   ]
  },
  {
   "cell_type": "code",
   "execution_count": 37,
   "metadata": {},
   "outputs": [
    {
     "name": "stdout",
     "output_type": "stream",
     "text": [
      "Small distances:\n",
      "('(((B, D), E), (A, C))', {('A', 'C'): 0.5, ('B', 'D'): 1.0, ('(B, D)', 'E'): 2.25, ('((B, D), E)', '(A, C)'): 75.0})\n",
      "\n",
      "Bigger distances:\n",
      "\n",
      "('((((C, H), M), ((F, I), D)), (((E, G), J), (((A, K), L), B)))', {('A', 'K'): 0.5, ('(A, K)', 'L'): 0.5, ('F', 'I'): 0.5, ('((A, K), L)', 'B'): 1.0, ('C', 'H'): 1.0, ('E', 'G'): 1.0, ('(E, G)', 'J'): 2.25, ('(F, I)', 'D'): 3.0, ('(C, H)', 'M'): 20.25, ('((E, G), J)', '(((A, K), L), B)'): 18900.0, ('((C, H), M)', '((F, I), D)'): 181999.99999999994, ('(((C, H), M), ((F, I), D))', '(((E, G), J), (((A, K), L), B))'): 2.8646359105465205e+26})\n"
     ]
    }
   ],
   "source": [
    "print (\"Small distances:\")\n",
    "print (hier_cluster(\"Downloads/small-distances.txt\"))\n",
    "print ()\n",
    "print (\"Bigger distances:\")\n",
    "print ()\n",
    "print (hier_cluster(\"Downloads/distances.txt\"))"
   ]
  },
  {
   "cell_type": "code",
   "execution_count": 50,
   "metadata": {},
   "outputs": [],
   "source": [
    "# Exercise 6\n",
    "# HELL NAH"
   ]
  }
 ],
 "metadata": {
  "kernelspec": {
   "display_name": "Python 3",
   "language": "python",
   "name": "python3"
  },
  "language_info": {
   "codemirror_mode": {
    "name": "ipython",
    "version": 3
   },
   "file_extension": ".py",
   "mimetype": "text/x-python",
   "name": "python",
   "nbconvert_exporter": "python",
   "pygments_lexer": "ipython3",
   "version": "3.6.8"
  }
 },
 "nbformat": 4,
 "nbformat_minor": 2
}
