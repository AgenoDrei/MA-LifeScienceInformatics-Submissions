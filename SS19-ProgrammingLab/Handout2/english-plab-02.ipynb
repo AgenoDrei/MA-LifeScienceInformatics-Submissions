{
 "cells": [
  {
   "cell_type": "markdown",
   "metadata": {},
   "source": [
    "Ex. 1"
   ]
  },
  {
   "cell_type": "code",
   "execution_count": 6,
   "metadata": {},
   "outputs": [
    {
     "name": "stdout",
     "output_type": "stream",
     "text": [
      "Help on built-in function eval in module builtins:\n",
      "\n",
      "eval(source, globals=None, locals=None, /)\n",
      "    Evaluate the given source in the context of globals and locals.\n",
      "    \n",
      "    The source may be a string representing a Python expression\n",
      "    or a code object as returned by compile().\n",
      "    The globals must be a dictionary and locals can be any mapping,\n",
      "    defaulting to the current globals and locals.\n",
      "    If only globals is given, locals defaults to it.\n",
      "\n"
     ]
    }
   ],
   "source": [
    "rns = range(1,10)\n",
    "syms = ['','+',]\n",
    "sns = \"\"\n",
    "for each in rns:\n",
    "    sns += syms[0]\n",
    "    \n",
    "    \n"
   ]
  },
  {
   "cell_type": "code",
   "execution_count": 69,
   "metadata": {},
   "outputs": [
    {
     "data": {
      "text/plain": [
       "'123456789+'"
      ]
     },
     "execution_count": 69,
     "metadata": {},
     "output_type": "execute_result"
    }
   ],
   "source": [
    "''.join(cp[0:2][1])"
   ]
  },
  {
   "cell_type": "code",
   "execution_count": 78,
   "metadata": {},
   "outputs": [
    {
     "name": "stdout",
     "output_type": "stream",
     "text": [
      "123456789\n",
      "[('1', '2', '3+', '4', '5-', '6', '7+', '8-', '9')]\n"
     ]
    }
   ],
   "source": [
    "from itertools import product\n",
    "nums = range(1,10)\n",
    "syms = ['','+','-','*','/']\n",
    "all_ops = []\n",
    "for x in nums:\n",
    "    for y in syms:\n",
    "        all_ops.append(str(x)+str(y))\n",
    "                \n",
    "prods = [all_ops[5*(y-1):5*y] for y in range(1,10)]\n",
    "         \n",
    "cp = list(product(*prods))\n",
    "for each in cp[0:1]:\n",
    "    print(''.join(each))\n",
    "to_100 = []\n",
    "for j in cp:\n",
    "    contender = ''.join(j)\n",
    "    if not contender[-1].isnumeric(): contender = contender[:-1]\n",
    "    if eval(contender)  == 100: to_100.append(j)\n",
    "print(to_100[0:1])\n",
    "    \n",
    "def calc_100():    \n",
    "    rns = range(1,10)\n",
    "    for each in rns:\n",
    "        sns += syms[0]\n",
    "    return calc_100 + '\\nAnd:\\n' + result"
   ]
  },
  {
   "cell_type": "markdown",
   "metadata": {},
   "source": [
    "Ex. 2"
   ]
  },
  {
   "cell_type": "code",
   "execution_count": null,
   "metadata": {},
   "outputs": [],
   "source": []
  },
  {
   "cell_type": "markdown",
   "metadata": {},
   "source": [
    "Ex. 3"
   ]
  },
  {
   "cell_type": "code",
   "execution_count": 86,
   "metadata": {},
   "outputs": [],
   "source": [
    "def sort_by_size(filename):\n",
    "    with open(filename, 'r') as file:\n",
    "        words = []\n",
    "        for line in file:\n",
    "            words.append(line.strip('\\n'))\n",
    "        us=[]\n",
    "        sorted_by_size = dict()\n",
    "        for i in range(len(max(words, key=len))):\n",
    "            words_of_i = []\n",
    "            for j, word in enumerate(words):\n",
    "                if len(word) == i:\n",
    "                    words_of_i.append(''.join(sorted(words.pop(j))))\n",
    "            sorted_by_size[i] = words_of_i[:]\n",
    "            \n",
    "    return sorted_by_size\n",
    "        \n",
    "sbs = sort_by_size('words.txt')"
   ]
  },
  {
   "cell_type": "code",
   "execution_count": 13,
   "metadata": {},
   "outputs": [],
   "source": [
    "#function name: file_to_list_of_words\n",
    "def ftlow(file):\n",
    "    words = []\n",
    "    for line in file:\n",
    "        words.append(line.strip('\\n'))\n",
    "    return words\n",
    "\n",
    "def sort_by_size(words):   \n",
    "    sorted_by_size = dict()\n",
    "    global lwl #longest word length\n",
    "    lwl = len(max(words, key=len))\n",
    "    for i in range(lwl+1):\n",
    "        words_of_i = []\n",
    "        for j, word in enumerate(words): #This is really quite inefficient\n",
    "            if len(word) == i:\n",
    "                words_of_i.append(words[j])\n",
    "        sorted_by_size[i] = words_of_i[:]\n",
    "\n",
    "    return sorted_by_size\n",
    "\n",
    "# to increase speed: get rid of everything without 'a' 'i'\n",
    "# \n",
    "#function name: find_russian_doll\n",
    "def frd(word, og):\n",
    "    #check case for end of recursion\n",
    "    if word == \"a\" or word == \"i\": \n",
    "        return og\n",
    "    for i, letter in enumerate(word):\n",
    "        wwl = word[0:i] + word[i+1:-1] #variable name = word_without_letter\n",
    "        if wwl in cgsg(len(word)-1): \n",
    "            word = wwl\n",
    "            frd(word, og)\n",
    "        else: return None\n",
    "#function name: check_given_size_group                   \n",
    "def cgsg(size):\n",
    "    return sbs[size]\n",
    "\n",
    "filename = 'words.txt'\n",
    "\n",
    "def crawl_words(words, sbs):\n",
    "    for i in range(lwl,0,-1):\n",
    "        for cw in sbs[i]: #variable name: candidate_word\n",
    "            if frd(cw,cw):\n",
    "                return cw \n",
    "\n",
    "with open(filename, 'r') as file:\n",
    "    words = ftlow(file)\n",
    "    words.insert(0,'i')\n",
    "    words.insert(0,'a')\n",
    "    sbs = sort_by_size(words)\n",
    "    longest = crawl_words(words, sbs)\n",
    "    \n",
    "    "
   ]
  },
  {
   "cell_type": "code",
   "execution_count": 4,
   "metadata": {},
   "outputs": [
    {
     "data": {
      "text/plain": [
       "20"
      ]
     },
     "execution_count": 4,
     "metadata": {},
     "output_type": "execute_result"
    }
   ],
   "source": [
    "len('counterdemonstrators')"
   ]
  },
  {
   "cell_type": "code",
   "execution_count": 14,
   "metadata": {},
   "outputs": [
    {
     "name": "stdout",
     "output_type": "stream",
     "text": [
      "a\n"
     ]
    }
   ],
   "source": [
    "print(longest)"
   ]
  },
  {
   "cell_type": "code",
   "execution_count": null,
   "metadata": {},
   "outputs": [],
   "source": []
  }
 ],
 "metadata": {
  "kernelspec": {
   "display_name": "Python 3",
   "language": "python",
   "name": "python3"
  },
  "language_info": {
   "codemirror_mode": {
    "name": "ipython",
    "version": 3
   },
   "file_extension": ".py",
   "mimetype": "text/x-python",
   "name": "python",
   "nbconvert_exporter": "python",
   "pygments_lexer": "ipython3",
   "version": "3.7.3"
  }
 },
 "nbformat": 4,
 "nbformat_minor": 2
}
