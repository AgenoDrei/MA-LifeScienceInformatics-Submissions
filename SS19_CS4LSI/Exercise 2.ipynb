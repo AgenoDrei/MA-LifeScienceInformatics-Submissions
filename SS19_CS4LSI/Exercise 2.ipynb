{
 "cells": [
  {
   "cell_type": "code",
   "execution_count": 2,
   "metadata": {},
   "outputs": [],
   "source": [
    "import math\n",
    "\n",
    "stdinfo = {\n",
    "    \"1\": (2.7, 2.5, 4.5),\n",
    "    \"2\": (3.6, 1.0, 7.0),\n",
    "    \"3\": (1.2, 5.0, 4.0),\n",
    "    \"4\": (1.0, 7.0, 5.0),\n",
    "    \"5\": (2.3, 3.5, 4.0),\n",
    "    \"6\": (4.0, 0.5, 8.0),\n",
    "    \"7\": (2.5, 3.0, 6.5)\n",
    "}"
   ]
  },
  {
   "cell_type": "code",
   "execution_count": 3,
   "metadata": {},
   "outputs": [
    {
     "name": "stdout",
     "output_type": "stream",
     "text": [
      "{'1': (2.7, 2.5, 4.5), '2': (3.6, 1.0, 7.0), '3': (1.2, 5.0, 4.0), '4': (1.0, 7.0, 5.0), '5': (2.3, 3.5, 4.0), '6': (4.0, 0.5, 8.0), '7': (2.5, 3.0, 6.5)}\n"
     ]
    }
   ],
   "source": [
    "print(stdinfo)"
   ]
  },
  {
   "cell_type": "markdown",
   "metadata": {},
   "source": [
    "# Exercise 1"
   ]
  },
  {
   "cell_type": "code",
   "execution_count": 4,
   "metadata": {},
   "outputs": [],
   "source": [
    "def get_values(d, i):\n",
    "    return [d[j][i] for j in stdinfo]\n",
    "\n",
    "def get_range(d, i):\n",
    "    vals = get_values(d, i)\n",
    "    return max(vals) - min(vals)\n",
    "\n",
    "def get_mean(d, i):\n",
    "    vals = get_values(d, i)\n",
    "    sumT = 0 \n",
    "    for k,v in enumerate(vals):\n",
    "        sumT += v / len(vals)\n",
    "    return sumT\n",
    "\n",
    "def get_stddev(d, i):\n",
    "    vals = get_values(d, i)\n",
    "    mean = get_mean(d, i)\n",
    "    sumT = 0\n",
    "    for k,v in enumerate(vals):\n",
    "        sumT += pow(v - mean, 2)\n",
    "    sumT /= len(vals)\n",
    "    return math.sqrt(sumT)\n",
    "\n",
    "def get_pearson(d, i1, i2):\n",
    "    val1, val2 = get_values(d, i1), get_values(d, i2)\n",
    "    mean1, mean2 = get_mean(d, i1), get_mean(d, i2)\n",
    "    dev1, dev2 = get_stddev(d, i1), get_stddev(d, i2)\n",
    "    sumT = 0\n",
    "    for k,v in enumerate(val1):\n",
    "        sumT += (v - mean1) * (val2[k] - mean2)\n",
    "    return sumT / (len(val1) * dev1 * dev2) \n",
    "    "
   ]
  },
  {
   "cell_type": "code",
   "execution_count": 5,
   "metadata": {},
   "outputs": [
    {
     "data": {
      "text/plain": [
       "[4.5, 7.0, 4.0, 5.0, 4.0, 8.0, 6.5]"
      ]
     },
     "execution_count": 5,
     "metadata": {},
     "output_type": "execute_result"
    }
   ],
   "source": [
    "get_values(stdinfo, 2)"
   ]
  },
  {
   "cell_type": "code",
   "execution_count": 6,
   "metadata": {},
   "outputs": [
    {
     "data": {
      "text/plain": [
       "3.0"
      ]
     },
     "execution_count": 6,
     "metadata": {},
     "output_type": "execute_result"
    }
   ],
   "source": [
    "get_range(stdinfo, 0)"
   ]
  },
  {
   "cell_type": "code",
   "execution_count": 19,
   "metadata": {},
   "outputs": [
    {
     "name": "stdout",
     "output_type": "stream",
     "text": [
      "2.4714285714285715 3.2142857142857144 5.571428571428571\n"
     ]
    }
   ],
   "source": [
    "print(get_mean(stdinfo, 0), get_mean(stdinfo, 1), get_mean(stdinfo, 2))"
   ]
  },
  {
   "cell_type": "code",
   "execution_count": 18,
   "metadata": {},
   "outputs": [
    {
     "name": "stdout",
     "output_type": "stream",
     "text": [
      "1.0333223611442928 2.084931359903775 1.4742691028964496\n"
     ]
    }
   ],
   "source": [
    "print(get_stddev(stdinfo, 0), get_stddev(stdinfo, 1), get_stddev(stdinfo, 2))"
   ]
  },
  {
   "cell_type": "code",
   "execution_count": 9,
   "metadata": {},
   "outputs": [
    {
     "name": "stdout",
     "output_type": "stream",
     "text": [
      "Correlation grade/leaning time:  -0.9752201847616595\n",
      "Correlation grade/social media:  0.7702987145839846\n"
     ]
    }
   ],
   "source": [
    "print(\"Correlation grade/leaning time: \", get_pearson(stdinfo, 0, 1))\n",
    "print(\"Correlation grade/social media: \", get_pearson(stdinfo, 0, 2))"
   ]
  },
  {
   "cell_type": "markdown",
   "metadata": {},
   "source": [
    "# Exercise 2\n",
    "## Part 1\n",
    "### a) \n",
    "\n",
    "f(n, s) = s + $\\sum_{i=0}^n i $ \n",
    "\n",
    "Example: \n",
    "- recurse(5, 4)  5 + 14 = 19\n",
    "- recurse(4, 9)  4 + 10 = 14\n",
    "- recurse(3, 13) 3 + 7 = 10\n",
    "- recurse(2, 16) 2 + 5 = 7\n",
    "- recurse(1, 18) 1 + 4 = 5\n",
    "- recurse(0, 19) 0 + 4 = 4\n",
    "\n",
    "#### b)\n",
    "You have created an infinte loop that will not terminate and crash the current python thread\n",
    "\n",
    "## Part 2"
   ]
  },
  {
   "cell_type": "code",
   "execution_count": 10,
   "metadata": {},
   "outputs": [],
   "source": [
    "def poly(x, coeffs):\n",
    "    n = len(coeffs)\n",
    "    if n <= 1:\n",
    "        return coeffs[0]\n",
    "    return coeffs[-1] * pow(x, n - 1) + poly(x, coeffs[:-1])"
   ]
  },
  {
   "cell_type": "code",
   "execution_count": 11,
   "metadata": {},
   "outputs": [
    {
     "data": {
      "text/plain": [
       "170"
      ]
     },
     "execution_count": 11,
     "metadata": {},
     "output_type": "execute_result"
    }
   ],
   "source": [
    "poly(2, [2, 4, 8, 16]) # 2 + 4x + 8x^2 + 16x^3"
   ]
  },
  {
   "cell_type": "code",
   "execution_count": null,
   "metadata": {},
   "outputs": [],
   "source": []
  }
 ],
 "metadata": {
  "kernelspec": {
   "display_name": "Python 3",
   "language": "python",
   "name": "python3"
  },
  "language_info": {
   "codemirror_mode": {
    "name": "ipython",
    "version": 3
   },
   "file_extension": ".py",
   "mimetype": "text/x-python",
   "name": "python",
   "nbconvert_exporter": "python",
   "pygments_lexer": "ipython3",
   "version": "3.7.0"
  }
 },
 "nbformat": 4,
 "nbformat_minor": 2
}
