{
 "cells": [
  {
   "cell_type": "markdown",
   "metadata": {},
   "source": [
    "# Sheet 05\n",
    "- Student: Simon Mueller\n",
    "- Mail: s.mueller1995@gmail.com / s6siume2@uni-bonn.de"
   ]
  },
  {
   "cell_type": "code",
   "execution_count": 1,
   "metadata": {},
   "outputs": [],
   "source": [
    "def matrix_get_submatrix(m, ii, jj):\n",
    "    rows = len(m)     \n",
    "    cols = len(m[0])\n",
    "    assert all([len(m[i]) == len(m[0]) for i in range(rows)])\n",
    "    assert 0 <= ii < rows\n",
    "    assert 0 <= jj < cols\n",
    "        \n",
    "    return [m[i][0:jj] + m[i][jj+1:] for i in range(rows) if i != ii]\n",
    "\n",
    "def matrix_det(m):\n",
    "    rows = len(m)     # number of rows of m\n",
    "    assert rows > 0\n",
    "    cols = len(m[0])  # number of cols of m\n",
    "    if rows != cols:\n",
    "        raise Exception(\"matrix must be square\")\n",
    "    if rows == 1:\n",
    "        return m[0][0]\n",
    "    elif rows == 2:\n",
    "        return m[0][0] * m[1][1] - m[0][1] * m[1][0]\n",
    "    elif rows == 3:\n",
    "        return m[0][0]*m[1][1]*m[2][2] + m[0][1]*m[1][2]*m[2][0] + m[0][2]*m[1][0]*m[2][1] - m[2][0]*m[1][1]*m[0][2] - m[2][1]*m[1][2]*m[0][0] - m[2][2]*m[1][0]*m[0][1]    \n",
    "    sgn = -1     #Fixed sign problem\n",
    "    sum = 0\n",
    "    for i in range(cols): #idx had to start at 1, not 0\n",
    "        sum += sgn**(i) * m[0][i] * matrix_det(matrix_get_submatrix(m, 0, i)) # added correct formula for sign\n",
    "    return sum"
   ]
  },
  {
   "cell_type": "markdown",
   "metadata": {},
   "source": [
    "## Exercise 1"
   ]
  },
  {
   "cell_type": "code",
   "execution_count": 4,
   "metadata": {},
   "outputs": [],
   "source": [
    "import unittest\n",
    "\n",
    "class TestMatrixDet(unittest.TestCase):\n",
    "    def test_submatrix(self):\n",
    "        testMat = [[1, 2, 3], [4, 5, 6], [7, 8, 9]]\n",
    "        newMat = matrix_get_submatrix(testMat, 0, 0)\n",
    "        \n",
    "        self.assertEqual(len(newMat), len(testMat) - 1, 'Test cols')\n",
    "        self.assertEqual(len(newMat[0]), len(testMat[0]) - 1, 'Test rows')\n",
    "        self.assertEqual(newMat[0][0], testMat[1][1])\n",
    "        self.assertEqual(newMat[0][1], testMat[1][2])\n",
    "\n",
    "        testMat = [[1, 2], [4, 5, 6], [7, 8, 9]]\n",
    "        with self.assertRaises(AssertionError):\n",
    "            newMat = matrix_get_submatrix(testMat, 0, 0)\n",
    "            \n",
    "    def test_determinate(self):\n",
    "        testMat = [[1, 2, 3, 4], [5, 1, 7, 8], [10, 10, 11, 12], [13, 14, 15, 16]]\n",
    "        det = matrix_det(testMat)\n",
    "        \n",
    "        self.assertEqual(det, -60)"
   ]
  },
  {
   "cell_type": "code",
   "execution_count": 5,
   "metadata": {},
   "outputs": [
    {
     "name": "stderr",
     "output_type": "stream",
     "text": [
      "..\n",
      "----------------------------------------------------------------------\n",
      "Ran 2 tests in 0.002s\n",
      "\n",
      "OK\n"
     ]
    },
    {
     "data": {
      "text/plain": [
       "<unittest.main.TestProgram at 0x7fda7825a0b8>"
      ]
     },
     "execution_count": 5,
     "metadata": {},
     "output_type": "execute_result"
    }
   ],
   "source": [
    "unittest.main(argv=['first-arg-is-ignored'], exit=False)\n"
   ]
  },
  {
   "cell_type": "code",
   "execution_count": 172,
   "metadata": {},
   "outputs": [
    {
     "name": "stdout",
     "output_type": "stream",
     "text": [
      "Testing dimension: 1\n",
      "808 ns ± 295 ns per loop (mean ± std. dev. of 7 runs, 3 loops each)\n",
      "Testing dimension: 2\n",
      "1.22 µs ± 301 ns per loop (mean ± std. dev. of 7 runs, 3 loops each)\n",
      "Testing dimension: 3\n",
      "2.79 µs ± 351 ns per loop (mean ± std. dev. of 7 runs, 3 loops each)\n",
      "Testing dimension: 4\n",
      "30.1 µs ± 1.2 µs per loop (mean ± std. dev. of 7 runs, 3 loops each)\n",
      "Testing dimension: 5\n",
      "154 µs ± 11.6 µs per loop (mean ± std. dev. of 7 runs, 3 loops each)\n",
      "Testing dimension: 6\n",
      "639 µs ± 167 µs per loop (mean ± std. dev. of 7 runs, 3 loops each)\n",
      "Testing dimension: 7\n",
      "3.04 ms ± 354 µs per loop (mean ± std. dev. of 7 runs, 3 loops each)\n",
      "Testing dimension: 8\n",
      "17.7 ms ± 980 µs per loop (mean ± std. dev. of 7 runs, 3 loops each)\n",
      "Testing dimension: 9\n",
      "144 ms ± 9.12 ms per loop (mean ± std. dev. of 7 runs, 3 loops each)\n",
      "Testing dimension: 10\n",
      "1.24 s ± 18.9 ms per loop (mean ± std. dev. of 7 runs, 3 loops each)\n"
     ]
    }
   ],
   "source": [
    "import random\n",
    "\n",
    "for d in range(1, 11):\n",
    "    print(\"Testing dimension: \" + str(d))\n",
    "    testMat = [[random.randrange(-5, 5) for x in range(d)] for y in range(d)]\n",
    "    %timeit -n 3 matrix_det(testMat)"
   ]
  },
  {
   "cell_type": "markdown",
   "metadata": {},
   "source": [
    "## Exercise 2\n",
    "- Alphonso: (Person)\n",
    "- Natalia: Gangster\n",
    "- Paolo: Gangster\n",
    "- Cosimo: (Person)\n",
    "- Giovanni: Gangster\n",
    "- Carla: (Person)\n",
    "- Rosa: Gangster\n",
    "- Jake: (Person)\n",
    "\n",
    "You can only state that you assume that every person is normal who is not certainly a gangster.\n",
    "The inheritane relationship implies that every object in the diagram could be a gangster and only some of them do gangster specfic actions (stealing, denounicing). Therefore the person assignment is only fuzzy and not set in stone."
   ]
  },
  {
   "cell_type": "markdown",
   "metadata": {},
   "source": [
    "## Exercise 3"
   ]
  },
  {
   "cell_type": "markdown",
   "metadata": {},
   "source": [
    "![S3](s3.png)\n",
    "*Shitty Student System (S3)*\n",
    "\n",
    "**Used classes:**\n",
    "- Publishing a list of offered classes for a given semester (Class, filter for semester variable)\n",
    "- Keeping track of registrations to classes                 (Filter students for class, Student)\n",
    "- Keeping track of scores from exercise sheets              (Saved in the student, Student)\n",
    "- Keeping track of registrations to exams and their results (Student, Class, Exam)\n",
    "- Printing a transcript of records for a specific student   (Student, calcAverageOverExamGrades) "
   ]
  },
  {
   "cell_type": "code",
   "execution_count": null,
   "metadata": {},
   "outputs": [],
   "source": []
  }
 ],
 "metadata": {
  "kernelspec": {
   "display_name": "Python 3",
   "language": "python",
   "name": "python3"
  },
  "language_info": {
   "codemirror_mode": {
    "name": "ipython",
    "version": 3
   },
   "file_extension": ".py",
   "mimetype": "text/x-python",
   "name": "python",
   "nbconvert_exporter": "python",
   "pygments_lexer": "ipython3",
   "version": "3.7.0"
  }
 },
 "nbformat": 4,
 "nbformat_minor": 2
}
