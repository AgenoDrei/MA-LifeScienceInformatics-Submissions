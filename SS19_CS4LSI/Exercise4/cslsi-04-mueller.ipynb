{
 "cells": [
  {
   "cell_type": "markdown",
   "metadata": {},
   "source": [
    "# Sheet 03\n",
    "- Student: Simon Müller\n",
    "- Mail: s.mueller1995@gmail.com / s6siume2@uni-bonn.de"
   ]
  },
  {
   "cell_type": "markdown",
   "metadata": {},
   "source": [
    "## Exercise 1"
   ]
  },
  {
   "cell_type": "code",
   "execution_count": 1,
   "metadata": {},
   "outputs": [],
   "source": [
    "def calcPascalTriangle(height):\n",
    "    if height <= 0:\n",
    "        raise Exception('Height has to be non-negative and non-zero')\n",
    "    \n",
    "    data = []\n",
    "    data.append([0, 1, 0])\n",
    "    \n",
    "    for h in range(1, height):\n",
    "        data.append([])\n",
    "        for w in range(0, len(data[h-1]) - 1):\n",
    "            data[h].append(data[h-1][w] + data[h-1][w+1])\n",
    "        data[h].insert(0, 0)\n",
    "        data[h].append(0)\n",
    "        \n",
    "    for i in range(len(data)):\n",
    "        data[i] = list(filter((0).__ne__, data[i]))\n",
    "    return data\n",
    "\n",
    "def formatPascalTriangle(tri):\n",
    "    maxLen = len(tri) * 5 - 1\n",
    "    retStr = ''\n",
    "    for i in range(len(tri)):\n",
    "        line = ' '.join(format(elm, '4d') for elm in tri[i])\n",
    "        line = '{:^{x}}'.format(line, x=maxLen)\n",
    "        retStr += line + '\\n'\n",
    "    return retStr\n",
    "\n",
    "def writePascalTriangle(height, path):\n",
    "    pyramid = calcPascalTriangle(height)\n",
    "    pyramidStr = formatPascalTriangle(pyramid)\n",
    "    \n",
    "    print('Writing this pascal triangle to file: ')\n",
    "    print(pyramidStr)\n",
    "    \n",
    "    with open(path, 'w') as file:\n",
    "        file.write(pyramidStr)\n",
    "    \n",
    "    print('Writing sucessfull!')\n",
    "        "
   ]
  },
  {
   "cell_type": "code",
   "execution_count": 2,
   "metadata": {},
   "outputs": [
    {
     "name": "stdout",
     "output_type": "stream",
     "text": [
      "Writing this pascal triangle to file: \n",
      "                                   1                                 \n",
      "                                 1    1                              \n",
      "                              1    2    1                            \n",
      "                            1    3    3    1                         \n",
      "                         1    4    6    4    1                       \n",
      "                       1    5   10   10    5    1                    \n",
      "                    1    6   15   20   15    6    1                  \n",
      "                  1    7   21   35   35   21    7    1               \n",
      "               1    8   28   56   70   56   28    8    1             \n",
      "             1    9   36   84  126  126   84   36    9    1          \n",
      "          1   10   45  120  210  252  210  120   45   10    1        \n",
      "        1   11   55  165  330  462  462  330  165   55   11    1     \n",
      "     1   12   66  220  495  792  924  792  495  220   66   12    1   \n",
      "   1   13   78  286  715 1287 1716 1716 1287  715  286   78   13    1\n",
      "\n",
      "Writing sucessfull!\n"
     ]
    }
   ],
   "source": [
    "writePascalTriangle(14, 'PascalTriangle-14.txt')"
   ]
  },
  {
   "cell_type": "markdown",
   "metadata": {},
   "source": [
    "## Exercise 2"
   ]
  },
  {
   "cell_type": "code",
   "execution_count": 5,
   "metadata": {},
   "outputs": [],
   "source": [
    "def sieveOfEratosthenes(limit):\n",
    "    if limit <= 2:\n",
    "        raise Exception('At least one prime number has to be calculated!')\n",
    "        \n",
    "    numbers = [True for i in range(limit+1)]\n",
    "    num = 2\n",
    "    while num * num <= limit(: \n",
    "        if numbers[num]: \n",
    "            for multNum in range(2 * num, limit + 1, num): \n",
    "                numbers[multNum] = False\n",
    "        num += 1\n",
    "            \n",
    "    return numbers\n",
    "\n",
    "def trialDivision(num, primes):\n",
    "    itPrimes = iter(primes)\n",
    "    divs = []\n",
    "    curPrime = next(itPrimes)      \n",
    "    \n",
    "    while num > 1:\n",
    "        if num % curPrime == 0:\n",
    "            divs.append(curPrime)\n",
    "            num /= curPrime\n",
    "        else:\n",
    "            curPrime = next(itPrimes)\n",
    "    return divs "
   ]
  },
  {
   "cell_type": "code",
   "execution_count": 8,
   "metadata": {},
   "outputs": [
    {
     "name": "stdout",
     "output_type": "stream",
     "text": [
      "CPU times: user 2.36 s, sys: 40 ms, total: 2.4 s\n",
      "Wall time: 2.4 s\n",
      "prime factors for 4: [2, 2]\n",
      "prime factors for 1001: [7, 11, 13]\n",
      "prime factors for 1231: [1231]\n",
      "prime factors for 123259: [123259]\n",
      "prime factors for 12345577: [12345577]\n"
     ]
    }
   ],
   "source": [
    "%time nums = sieveOfEratosthenes(12345577)\n",
    "trials = [4, 1001, 1231, 123259, 12345577] #1234567811, 112233445589, 11223344556607, 198473094, 13918452024, 32574985749857]\n",
    "primes = [i for i in range(len(nums)) if nums[i] and i > 1]\n",
    "\n",
    "\n",
    "for trial in trials:\n",
    "    divs = trialDivision(trial, primes)\n",
    "    print(\"prime factors for {}: {}\".format(trial, divs))\n"
   ]
  },
  {
   "cell_type": "markdown",
   "metadata": {},
   "source": [
    "## Exercise 3\n",
    "\n",
    "see corresponding solution file cslsi-04-mueller-03.py "
   ]
  },
  {
   "cell_type": "code",
   "execution_count": 9,
   "metadata": {},
   "outputs": [],
   "source": []
  },
  {
   "cell_type": "code",
   "execution_count": null,
   "metadata": {},
   "outputs": [],
   "source": []
  }
 ],
 "metadata": {
  "kernelspec": {
   "display_name": "Python 3",
   "language": "python",
   "name": "python3"
  },
  "language_info": {
   "codemirror_mode": {
    "name": "ipython",
    "version": 3
   },
   "file_extension": ".py",
   "mimetype": "text/x-python",
   "name": "python",
   "nbconvert_exporter": "python",
   "pygments_lexer": "ipython3",
   "version": "3.7.0"
  }
 },
 "nbformat": 4,
 "nbformat_minor": 2
}
