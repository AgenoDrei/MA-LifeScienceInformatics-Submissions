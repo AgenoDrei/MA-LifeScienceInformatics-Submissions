{
 "cells": [
  {
   "cell_type": "markdown",
   "metadata": {},
   "source": [
    "# Sheet 03\n",
    "- Student: Simon Müller\n",
    "- Mail: s.mueller1995@gmail.com / s6siume2@uni-bonn.de"
   ]
  },
  {
   "cell_type": "markdown",
   "metadata": {},
   "source": [
    "## Exercise 1"
   ]
  },
  {
   "cell_type": "code",
   "execution_count": 1,
   "metadata": {},
   "outputs": [],
   "source": [
    "import random\n",
    "\n",
    "def dot(a, b):\n",
    "    dp = 0\n",
    "    for i in range(len(a)):\n",
    "        dp += a[i] * b[i]\n",
    "    return dp\n",
    "\n",
    "def getColumn(a, idx):\n",
    "    return [a[x][idx] for x in range(len(a))]\n",
    "\n",
    "def createMat(r, c):\n",
    "    return [[random.randrange(10) - 5 for j in range(c)] for i in range(r)]\n",
    "\n",
    "def addMat(a, b):\n",
    "    if len(a) != len(b) or all(len(a[x]) != len(b[x]) for x in range(len(a))):\n",
    "        raise Exception(\"Matricies should have same dimension\")\n",
    "    return [[a[i][j] + b[i][j] for j in range(len(a[0]))] for i in range(len(a))]\n",
    "\n",
    "def multMat(a, b):\n",
    "    if all(len(a[x]) != len(b) for x in range(len(a))):\n",
    "        raise Exception(\"For mat multiplication the dimensions have to match(mxn * nxk = mxk)\")\n",
    "    res = createMat(len(a), len(b[0]))\n",
    "    return [[dot(a[i], getColumn(b, j)) for j in range(len(res))] for i in range(len(res[0]))]"
   ]
  },
  {
   "cell_type": "code",
   "execution_count": 76,
   "metadata": {},
   "outputs": [
    {
     "name": "stdout",
     "output_type": "stream",
     "text": [
      "[[-5, 3, -5], [4, -4, -5]]\n",
      "[[0, -1, -3], [4, 4, 0]]\n",
      "[[-5, -5], [-2, -3], [-5, 3]]\n",
      "Result Addition:  [[-5, 2, -8], [8, 0, -5]]\n",
      "Result Multiplication:  [[44, 1], [13, -23]]\n"
     ]
    }
   ],
   "source": [
    "matA = createMat(2, 3)\n",
    "matB = createMat(2, 3)\n",
    "matC = createMat(3, 2)\n",
    "\n",
    "matD = addMat(matA, matB)\n",
    "matE = multMat(matA, matC)\n",
    "print(matA)\n",
    "print(matB)\n",
    "print(matC)\n",
    "print(\"Result Addition: \", matD)\n",
    "print(\"Result Multiplication: \", matE)"
   ]
  },
  {
   "cell_type": "markdown",
   "metadata": {},
   "source": [
    "## Exercise 2"
   ]
  },
  {
   "cell_type": "code",
   "execution_count": 1,
   "metadata": {},
   "outputs": [],
   "source": [
    "def AtlasDict(path):\n",
    "    atlasDict = {}\n",
    "    with open(path) as file:\n",
    "        data = file.read()\n",
    "        lines = data.split(\"\\n\")\n",
    "        for line in lines:\n",
    "            if \"label\" in line: #line.find(\"label\") > -1:\n",
    "                lineParts = line.split('\"')\n",
    "                atlasDict[int(lineParts[1])] = lineParts[8].split('>')[1].split('<')[0]\n",
    "    return atlasDict\n",
    "\n",
    "def summarize(path, output):\n",
    "    atlasDict = {}\n",
    "    atlasName, atlasShortname = None, None\n",
    "    numStructures = 0\n",
    "    with open(path) as file:\n",
    "        data = file.read()\n",
    "        lines = data.split(\"\\n\")\n",
    "        for line in lines:\n",
    "            if line.find(\"label\") > -1:\n",
    "                lineParts = line.split('\"')\n",
    "                atlasDict[int(lineParts[1])] = lineParts[8].split('>')[1].split('<')[0]\n",
    "            elif line.find(\"<name>\") > -1:\n",
    "                atlasName = line.split('<name>')[1].split('</name>')[0]\n",
    "            elif line.find(\"<shortname>\") > -1:\n",
    "                atlasShortname = line.split('<shortname>')[1].split('</shortname>')[0]\n",
    "    \n",
    "    with open(output, 'w') as summary:\n",
    "        summary.write(\"Atlas name: {}\\n\".format(atlasName))\n",
    "        summary.write(\"Atlas short name: {}\\n\".format(atlasShortname))\n",
    "        for (k, v) in atlasDict.items():\n",
    "            summary.write(\"{}: {}\\n\".format(k, v))\n",
    "        summary.write(\"Number of structures in atlas: {}\\n\".format(len(atlasDict)))\n",
    "        "
   ]
  },
  {
   "cell_type": "code",
   "execution_count": 2,
   "metadata": {},
   "outputs": [
    {
     "name": "stdout",
     "output_type": "stream",
     "text": [
      "{0: 'Frontal Pole', 1: 'Insular Cortex', 2: 'Superior Frontal Gyrus', 3: 'Middle Frontal Gyrus', 4: 'Inferior Frontal Gyrus, pars triangularis', 5: 'Inferior Frontal Gyrus, pars opercularis', 6: 'Precentral Gyrus', 7: 'Temporal Pole', 8: 'Superior Temporal Gyrus, anterior division', 9: 'Superior Temporal Gyrus, posterior division', 10: 'Middle Temporal Gyrus, anterior division', 11: 'Middle Temporal Gyrus, posterior division', 12: 'Middle Temporal Gyrus, temporooccipital part', 13: 'Inferior Temporal Gyrus, anterior division', 14: 'Inferior Temporal Gyrus, posterior division', 15: 'Inferior Temporal Gyrus, temporooccipital part', 16: 'Postcentral Gyrus', 17: 'Superior Parietal Lobule', 18: 'Supramarginal Gyrus, anterior division', 19: 'Supramarginal Gyrus, posterior division', 20: 'Angular Gyrus', 21: 'Lateral Occipital Cortex, superior division', 22: 'Lateral Occipital Cortex, inferior division', 23: 'Intracalcarine Cortex', 24: 'Frontal Medial Cortex', 25: 'Juxtapositional Lobule Cortex (formerly Supplementary Motor Cortex)', 26: 'Subcallosal Cortex', 27: 'Paracingulate Gyrus', 28: 'Cingulate Gyrus, anterior division', 29: 'Cingulate Gyrus, posterior division', 30: 'Precuneous Cortex', 31: 'Cuneal Cortex', 32: 'Frontal Orbital Cortex', 33: 'Parahippocampal Gyrus, anterior division', 34: 'Parahippocampal Gyrus, posterior division', 35: 'Lingual Gyrus', 36: 'Temporal Fusiform Cortex, anterior division', 37: 'Temporal Fusiform Cortex, posterior division', 38: 'Temporal Occipital Fusiform Cortex', 39: 'Occipital Fusiform Gyrus', 40: 'Frontal Operculum Cortex', 41: 'Central Opercular Cortex', 42: 'Parietal Operculum Cortex', 43: 'Planum Polare', 44: \"Heschl's Gyrus (includes H1 and H2)\", 45: 'Planum Temporale', 46: 'Supracalcarine Cortex', 47: 'Occipital Pole'}\n",
      "\n",
      "{0: 'Left Cerebral White Matter', 1: 'Left Cerebral Cortex ', 2: 'Left Lateral Ventrical', 3: 'Left Thalamus', 4: 'Left Caudate', 5: 'Left Putamen', 6: 'Left Pallidum', 7: 'Brain-Stem', 8: 'Left Hippocampus', 9: 'Left Amygdala', 10: 'Left Accumbens', 11: 'Right Cerebral White Matter', 12: 'Right Cerebral Cortex ', 13: 'Right Lateral Ventricle', 14: 'Right Thalamus', 15: 'Right Caudate', 16: 'Right Putamen', 17: 'Right Pallidum', 18: 'Right Hippocampus', 19: 'Right Amygdala', 20: 'Right Accumbens'}\n"
     ]
    }
   ],
   "source": [
    "print(AtlasDict(\"./HarvardOxford-Cortical.xml\"))\n",
    "summarize(\"./HarvardOxford-Cortical.xml\", \"./HarvardOxford-Cortical-Summary.txt\")\n",
    "\n",
    "print()\n",
    "\n",
    "print(AtlasDict(\"./HarvardOxford-Subcortical.xml\"))\n",
    "summarize(\"./HarvardOxford-Subcortical.xml\", \"./HarvardOxford-Subcortical-Summary.txt\")"
   ]
  },
  {
   "cell_type": "code",
   "execution_count": 3,
   "metadata": {},
   "outputs": [],
   "source": []
  },
  {
   "cell_type": "code",
   "execution_count": 4,
   "metadata": {},
   "outputs": [
    {
     "data": {
      "text/plain": [
       "3"
      ]
     },
     "execution_count": 4,
     "metadata": {},
     "output_type": "execute_result"
    }
   ],
   "source": []
  },
  {
   "cell_type": "code",
   "execution_count": null,
   "metadata": {},
   "outputs": [],
   "source": []
  }
 ],
 "metadata": {
  "kernelspec": {
   "display_name": "Python 3",
   "language": "python",
   "name": "python3"
  },
  "language_info": {
   "codemirror_mode": {
    "name": "ipython",
    "version": 3
   },
   "file_extension": ".py",
   "mimetype": "text/x-python",
   "name": "python",
   "nbconvert_exporter": "python",
   "pygments_lexer": "ipython3",
   "version": "3.7.0"
  }
 },
 "nbformat": 4,
 "nbformat_minor": 2
}
