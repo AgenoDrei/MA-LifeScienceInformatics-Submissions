{
 "cells": [
  {
   "cell_type": "code",
   "execution_count": 8,
   "metadata": {},
   "outputs": [
    {
     "data": {
      "text/plain": [
       "4"
      ]
     },
     "execution_count": 8,
     "metadata": {},
     "output_type": "execute_result"
    }
   ],
   "source": [
    "import math"
   ]
  },
  {
   "cell_type": "markdown",
   "metadata": {},
   "source": [
    "## Exercise 1"
   ]
  },
  {
   "cell_type": "code",
   "execution_count": 39,
   "metadata": {},
   "outputs": [],
   "source": [
    "def square(x):\n",
    "    return pow(x, 2)\n",
    "\n",
    "def approxDerivativeXSquared(x, h):\n",
    "    return (square(x + h) - square(x - h)) / (2 * h)\n",
    "\n",
    "def deriveXSquared(x):\n",
    "    return 2 * x"
   ]
  },
  {
   "cell_type": "code",
   "execution_count": 61,
   "metadata": {},
   "outputs": [
    {
     "name": "stdout",
     "output_type": "stream",
     "text": [
      "Approximation of 200 with stepsize 0.0001: 400.00000000873115\n",
      "True result:  400\n",
      "Difference between these results 8.731149137020111e-09\n"
     ]
    }
   ],
   "source": [
    "x = 200\n",
    "h = 0.0001\n",
    "\n",
    "approxRes = approxDerivativeXSquared(x, h)\n",
    "trueRes = deriveXSquared(x)\n",
    "\n",
    "print('Approximation of {} with stepsize {}: {}'.format(x, h, approxRes))\n",
    "print('True result: ', trueRes)\n",
    "print('Difference between these results', abs(trueRes - approxRes))"
   ]
  },
  {
   "cell_type": "markdown",
   "metadata": {},
   "source": [
    "## Exercise 2"
   ]
  },
  {
   "cell_type": "code",
   "execution_count": 64,
   "metadata": {},
   "outputs": [],
   "source": [
    "textData = \"\"\"Python is a widely used high-level programming language. Python has a design philosophy that emphasizes\n",
    "code readability. Syntax of python allows programmers to express concepts in fewer lines of code.\n",
    "The language provides constructs intended to enable writing clear programs on both a small and large\n",
    "scale.\"\"\""
   ]
  },
  {
   "cell_type": "code",
   "execution_count": 100,
   "metadata": {},
   "outputs": [],
   "source": [
    "def countSentences(text):\n",
    "    markCount = 0\n",
    "    markCount += text.count(\".\")\n",
    "    markCount += text.count(\"!\")\n",
    "    markCount += text.count(\"?\")\n",
    "    return markCount\n",
    "\n",
    "def doesOccure(text, k):\n",
    "    count = text.count(k)\n",
    "    output = k + \" is in the paragraph\" if count > 0 else k + \" is not in the paragraph\"\n",
    "    return output\n",
    "\n",
    "def removeLastSentence(text):\n",
    "    text = text[:-1]\n",
    "    lastIdx = text.rfind(\".\")\n",
    "    lastIdx = text.rfind(\"?\") if lastIdx < text.rfind(\"?\") else lastIdx\n",
    "    lastIdx = text.rfind(\"!\") if lastIdx < text.rfind(\"!\") else lastIdx    \n",
    "    return text[:lastIdx + 2]"
   ]
  },
  {
   "cell_type": "code",
   "execution_count": 103,
   "metadata": {},
   "outputs": [
    {
     "name": "stdout",
     "output_type": "stream",
     "text": [
      "Part a):  4\n",
      "Part b):  exclude is not in the paragraph\n",
      "language is in the paragraph\n",
      "Part c):  Python is a widely used high-level programming language. Python has a design philosophy that emphasizes\n",
      "code readability. Syntax of python allows programmers to express concepts in fewer lines of code.\n",
      "\n"
     ]
    }
   ],
   "source": [
    "print(\"Part a): \", countSentences(textData))\n",
    "print(\"Part b): \", doesOccure(textData, \"exclude\"))\n",
    "print(doesOccure(textData, \"language\"))\n",
    "print(\"Part c): \", removeLastSentence(textData))"
   ]
  },
  {
   "cell_type": "markdown",
   "metadata": {},
   "source": [
    "## Exercise 3"
   ]
  },
  {
   "cell_type": "code",
   "execution_count": 116,
   "metadata": {},
   "outputs": [],
   "source": [
    "def bmi(h, m):\n",
    "    return m / square(h)\n",
    "\n",
    "def condition(h, m, g):\n",
    "    if g != \"male\" and g != \"female\":\n",
    "        raise ValueError(\"Invalid gende\")\n",
    "    conds = [\"anorexia\", \"underweight\", \"in normal range\", \"overweight\", \"severely obese\", \"undefined\"]\n",
    "    bmiVal = bmi(h, m)\n",
    "    if(bmiVal < 17.5): \n",
    "        return conds[0]\n",
    "    \n",
    "    if g == \"female\":\n",
    "        if bmiVal < 19.2:\n",
    "            return conds[1]\n",
    "        elif bmiVal < 25.9:\n",
    "            return conds[2]\n",
    "        elif bmiVal < 32.4:\n",
    "            return conds[3]\n",
    "    elif g == \"male\":\n",
    "        if bmiVal < 20.7:\n",
    "            return conds[1]\n",
    "        elif bmiVal < 26.5:\n",
    "            return conds[2]\n",
    "        elif bmiVal < 31.2:\n",
    "            return conds[3]\n",
    "    \n",
    "    if(bmiVal > 35):\n",
    "        return conds[-2]\n",
    "    \n",
    "    return conds[-1]\n",
    "    "
   ]
  },
  {
   "cell_type": "code",
   "execution_count": 119,
   "metadata": {},
   "outputs": [
    {
     "name": "stdout",
     "output_type": "stream",
     "text": [
      "Part a)\n",
      "24.772096710265558\n",
      "14.317019722425126\n",
      "43.774152730754764\n",
      "Part b)\n",
      "in normal range\n",
      "anorexia\n",
      "severely obese\n"
     ]
    }
   ],
   "source": [
    "print(\"Part a)\")\n",
    "print(bmi(1.74, 75))\n",
    "print(bmi(1.85, 49))\n",
    "print(bmi(1.71, 128))\n",
    "\n",
    "print(\"Part b)\")\n",
    "print(condition(1.74, 75, \"male\"))\n",
    "print(condition(1.85, 49, \"male\"))\n",
    "print(condition(1.71, 128, \"female\"))"
   ]
  },
  {
   "cell_type": "code",
   "execution_count": null,
   "metadata": {},
   "outputs": [],
   "source": []
  }
 ],
 "metadata": {
  "kernelspec": {
   "display_name": "Python 3",
   "language": "python",
   "name": "python3"
  },
  "language_info": {
   "codemirror_mode": {
    "name": "ipython",
    "version": 3
   },
   "file_extension": ".py",
   "mimetype": "text/x-python",
   "name": "python",
   "nbconvert_exporter": "python",
   "pygments_lexer": "ipython3",
   "version": "3.7.0"
  }
 },
 "nbformat": 4,
 "nbformat_minor": 2
}
