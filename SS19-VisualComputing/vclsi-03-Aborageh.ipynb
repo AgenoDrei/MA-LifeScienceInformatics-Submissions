{
 "cells": [
  {
   "cell_type": "markdown",
   "metadata": {},
   "source": [
    "Mohamed Aborageh\n",
    "mohamed.salah1@aiesec.net"
   ]
  },
  {
   "cell_type": "markdown",
   "metadata": {},
   "source": [
    "## Exercise 3\n",
    "\n",
    "##### a)\n",
    "\n",
    "- First, given the two points xi & xj the probability Pij is computed to model the similarity between both points in high dimensional space. \n",
    "\n",
    "- Second, a Student's t-Distribution with one degree of freedom is used to compute joint-probability distribution in lower dimension Q, where data positions should be optimized.\n",
    "\n",
    "- Last, gradient of Kullback-Leibler divergence between P and Q is used to minimize cost function C.\n",
    "\n",
    "\n",
    "A-tSNE introduces the approximations at initialization stage, by using approximated KNN computations to build the approximated high dimensional joint-probability distribution pA instead of exact distribution P. The cost function C is minimized to obtain the approximated embedding described by QA.\n",
    "The similarity between points is calculated with approximated neighbours NA, instead of exact neighborhood Ni."
   ]
  },
  {
   "cell_type": "markdown",
   "metadata": {},
   "source": [
    "##### b)\n",
    "\n",
    "The idea of Progressive Visual Analysis is to provide intermediate results with which the user can start the analysis process, in case the computation of the final results is costly.\n",
    "\n",
    "Given that the distances in high-dimensional space need to be precomputed to start minimization process, the initialization process could take time before the first intermediate result is generated, and any adjustment to data will force the user to wait for reinitialization.\n",
    "\n",
    "A-tSNE approximates the distances using KNN queries instead of precomputing them. This allows the computation of iterative minimization to start instantly and immediate processing of data."
   ]
  },
  {
   "cell_type": "markdown",
   "metadata": {},
   "source": [
    "##### c)\n",
    "\n",
    "As the data acquisition process could be imperfect, and the data could be incomplete or noisy and therefore data pre-processing is required."
   ]
  }
 ],
 "metadata": {
  "kernelspec": {
   "display_name": "Python 3",
   "language": "python",
   "name": "python3"
  },
  "language_info": {
   "codemirror_mode": {
    "name": "ipython",
    "version": 3
   },
   "file_extension": ".py",
   "mimetype": "text/x-python",
   "name": "python",
   "nbconvert_exporter": "python",
   "pygments_lexer": "ipython3",
   "version": "3.7.0"
  }
 },
 "nbformat": 4,
 "nbformat_minor": 2
}
