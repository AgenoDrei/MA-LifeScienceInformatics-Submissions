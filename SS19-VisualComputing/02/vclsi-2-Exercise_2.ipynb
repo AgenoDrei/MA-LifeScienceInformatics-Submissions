{
 "cells": [
  {
   "cell_type": "markdown",
   "metadata": {},
   "source": [
    "# Exercise 2"
   ]
  },
  {
   "cell_type": "markdown",
   "metadata": {},
   "source": [
    "a) In addition to standard PCPs, the authors test eight variations. For each of them, briefly describe the proposed modification, and why the authors expected it to improve the visualization. Use 1-2 sentences for each of the eight cases.\n",
    "\n",
    "-> 1. Beside the PCP, the authors included 2D scatter plots between each pair of adjacent PCP axes, \n",
    "        to immediatly detect clusters which might be not so directly to see in the PCP plots only.\n",
    "        \n",
    "-> 2./3./4. To enhance fuzzy clusters the authors tested a color- and opacity-based highlighting methods              using local neighborhood density of each data point. In one method, they enhanced density-points using  \n",
    "     simple colors from a well-defined, distinguishable lookup table. In the second method, density-based \n",
    "     blending which refers the amount of polyline opacity was used only. In the third method, both color-based        and opacity-based methods were combined. \n",
    "\n",
    "-> 5. To bypass ambiguity caused by polyline crossing the authors introduced a curve drawing method that resolves      crossing ambiguity by only introducing curvature where needed (QUOTED) and in a unqiue designing. This makes      it easy to track lines.\n",
    "\n",
    "-> 6./7./8. The last three methods are based on including animation (different \"stages\" of the plots) into the        plots. Due to the authors, this includes motion parallax which tremendously helps to visually                    distiguish overlapping, fuzzy clusters. A random tour animation scheme including random permuations of data \n",
    "     dimensions was used for the first method. Animations are virtually non-cyclic and show new patterns each.\n",
    "     Secondly, a slightly cyclic animation scheme including a rotation matrix (designed to rotate data points)        was performed and called permutation tour animation scheme. In the final one - the wobble animation scheme-      PCP polylines “wobble” around a base position \"in a sinusoidal way\"  (QUOTED). Motion parallax was                generated, but clusters kept fixed for easy tracking. A random tour scheme function including                    parametes for amplitude and period time was build for that."
   ]
  },
  {
   "cell_type": "markdown",
   "metadata": {},
   "source": [
    "b) Within the user study, what task did the subjects have to perform? ...\n",
    "\n",
    "-> Participants had to simply detect clusters on all 9 various PCPs variation. Correctness of clusters and repsonse time were measured. Of course, the experiment was caried out fully randomized with numerous trials for each variation and so on. Correlation (frequently used in practice) between different variables wasn't considered in the whole experiment. It was all about clusters."
   ]
  },
  {
   "cell_type": "markdown",
   "metadata": {},
   "source": [
    "c) To which extent did the results of the study match the authors’ hypotheses?\n",
    "\n",
    "The authors expected the effectiveness/usability of the 9 variation including the standard PCP in the following order: ColorBlend, Color, SP, Curved, Blend, Wobble, {RT, PT}, Standard. \n",
    "Basically, color is regarded as a strong visual cue for humans according to the authors. Furthermore, all variations were expected to outperform the standard PCP though.\n",
    "The outcome was still different: SP, {Standard, Color, Blend, Color- Blend, Curved, Wobble}, {RT, PT}\n",
    "That SP outperforms Color and Color-blend was unexpected. SP being in the top 3 comes to the authors expections still. Furthermore, that {Standard, Color, Blend, Color- Blend, Curved, Wobble} perrformed nearly the same was also not expected, especially the Color and Color-blend variation were highly overestimated in their effectiveness."
   ]
  },
  {
   "cell_type": "markdown",
   "metadata": {},
   "source": [
    "d) Which of the explored modifications would you consider using when designing a visualization\n",
    "based on parallel coordinates?\n",
    "\n",
    "My preferation would definitely go with the study outcome of clusters identification: Scatter Plots - simply by the fact that clusters are literally shown like the users expectation of a typical cluster - areas with a high density of data points - which would therefore follow the easiest way to detect them. I would still modify this approach in terms of increasing the amount axis labels (and therefore scatter plots) without the need of sharing axis labels between the variables pairs. This would enlarge the whole figure, but would make it even more intuitive to understand relations, mainly because of no rotation needs - in my opinion.\n"
   ]
  }
 ],
 "metadata": {
  "kernelspec": {
   "display_name": "Python 3",
   "language": "python",
   "name": "python3"
  },
  "language_info": {
   "codemirror_mode": {
    "name": "ipython",
    "version": 3
   },
   "file_extension": ".py",
   "mimetype": "text/x-python",
   "name": "python",
   "nbconvert_exporter": "python",
   "pygments_lexer": "ipython3",
   "version": "3.6.8"
  }
 },
 "nbformat": 4,
 "nbformat_minor": 2
}
